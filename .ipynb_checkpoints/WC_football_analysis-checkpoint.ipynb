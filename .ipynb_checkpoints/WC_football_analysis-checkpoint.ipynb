{
 "cells": [
  {
   "cell_type": "markdown",
   "metadata": {},
   "source": [
    "# International football resluts from 1872-2017"
   ]
  },
  {
   "cell_type": "code",
   "execution_count": 1,
   "metadata": {},
   "outputs": [],
   "source": [
    "import pandas as pd \n",
    "import numpy as np \n",
    "import matplotlib.pyplot as plt\n",
    "import seaborn as sns\n",
    "plt.rc('figure', figsize=(15, 5))"
   ]
  },
  {
   "cell_type": "code",
   "execution_count": 2,
   "metadata": {},
   "outputs": [
    {
     "data": {
      "text/html": [
       "<div>\n",
       "<style scoped>\n",
       "    .dataframe tbody tr th:only-of-type {\n",
       "        vertical-align: middle;\n",
       "    }\n",
       "\n",
       "    .dataframe tbody tr th {\n",
       "        vertical-align: top;\n",
       "    }\n",
       "\n",
       "    .dataframe thead th {\n",
       "        text-align: right;\n",
       "    }\n",
       "</style>\n",
       "<table border=\"1\" class=\"dataframe\">\n",
       "  <thead>\n",
       "    <tr style=\"text-align: right;\">\n",
       "      <th></th>\n",
       "      <th>date</th>\n",
       "      <th>home_team</th>\n",
       "      <th>away_team</th>\n",
       "      <th>home_score</th>\n",
       "      <th>away_score</th>\n",
       "      <th>tournament</th>\n",
       "      <th>city</th>\n",
       "      <th>country</th>\n",
       "      <th>neutral</th>\n",
       "    </tr>\n",
       "  </thead>\n",
       "  <tbody>\n",
       "    <tr>\n",
       "      <th>0</th>\n",
       "      <td>1872-11-30</td>\n",
       "      <td>Scotland</td>\n",
       "      <td>England</td>\n",
       "      <td>0</td>\n",
       "      <td>0</td>\n",
       "      <td>Friendly</td>\n",
       "      <td>Glasgow</td>\n",
       "      <td>Scotland</td>\n",
       "      <td>False</td>\n",
       "    </tr>\n",
       "    <tr>\n",
       "      <th>1</th>\n",
       "      <td>1873-03-08</td>\n",
       "      <td>England</td>\n",
       "      <td>Scotland</td>\n",
       "      <td>4</td>\n",
       "      <td>2</td>\n",
       "      <td>Friendly</td>\n",
       "      <td>London</td>\n",
       "      <td>England</td>\n",
       "      <td>False</td>\n",
       "    </tr>\n",
       "    <tr>\n",
       "      <th>2</th>\n",
       "      <td>1874-03-07</td>\n",
       "      <td>Scotland</td>\n",
       "      <td>England</td>\n",
       "      <td>2</td>\n",
       "      <td>1</td>\n",
       "      <td>Friendly</td>\n",
       "      <td>Glasgow</td>\n",
       "      <td>Scotland</td>\n",
       "      <td>False</td>\n",
       "    </tr>\n",
       "    <tr>\n",
       "      <th>3</th>\n",
       "      <td>1875-03-06</td>\n",
       "      <td>England</td>\n",
       "      <td>Scotland</td>\n",
       "      <td>2</td>\n",
       "      <td>2</td>\n",
       "      <td>Friendly</td>\n",
       "      <td>London</td>\n",
       "      <td>England</td>\n",
       "      <td>False</td>\n",
       "    </tr>\n",
       "    <tr>\n",
       "      <th>4</th>\n",
       "      <td>1876-03-04</td>\n",
       "      <td>Scotland</td>\n",
       "      <td>England</td>\n",
       "      <td>3</td>\n",
       "      <td>0</td>\n",
       "      <td>Friendly</td>\n",
       "      <td>Glasgow</td>\n",
       "      <td>Scotland</td>\n",
       "      <td>False</td>\n",
       "    </tr>\n",
       "    <tr>\n",
       "      <th>...</th>\n",
       "      <td>...</td>\n",
       "      <td>...</td>\n",
       "      <td>...</td>\n",
       "      <td>...</td>\n",
       "      <td>...</td>\n",
       "      <td>...</td>\n",
       "      <td>...</td>\n",
       "      <td>...</td>\n",
       "      <td>...</td>\n",
       "    </tr>\n",
       "    <tr>\n",
       "      <th>41238</th>\n",
       "      <td>2019-10-20</td>\n",
       "      <td>Lesotho</td>\n",
       "      <td>Zimbabwe</td>\n",
       "      <td>0</td>\n",
       "      <td>0</td>\n",
       "      <td>African Nations Championship qualifying</td>\n",
       "      <td>Lesotho</td>\n",
       "      <td>Lesotho</td>\n",
       "      <td>False</td>\n",
       "    </tr>\n",
       "    <tr>\n",
       "      <th>41239</th>\n",
       "      <td>2019-10-20</td>\n",
       "      <td>Guinea</td>\n",
       "      <td>Senegal</td>\n",
       "      <td>1</td>\n",
       "      <td>0</td>\n",
       "      <td>African Nations Championship qualifying</td>\n",
       "      <td>Conakry</td>\n",
       "      <td>Guinea</td>\n",
       "      <td>False</td>\n",
       "    </tr>\n",
       "    <tr>\n",
       "      <th>41240</th>\n",
       "      <td>2019-10-20</td>\n",
       "      <td>Mali</td>\n",
       "      <td>Mauritania</td>\n",
       "      <td>2</td>\n",
       "      <td>0</td>\n",
       "      <td>African Nations Championship qualifying</td>\n",
       "      <td>Mali</td>\n",
       "      <td>Mali</td>\n",
       "      <td>False</td>\n",
       "    </tr>\n",
       "    <tr>\n",
       "      <th>41241</th>\n",
       "      <td>2019-10-20</td>\n",
       "      <td>Burkina Faso</td>\n",
       "      <td>Ghana</td>\n",
       "      <td>0</td>\n",
       "      <td>0</td>\n",
       "      <td>African Nations Championship qualifying</td>\n",
       "      <td>Burkina Faso</td>\n",
       "      <td>Burkina Faso</td>\n",
       "      <td>False</td>\n",
       "    </tr>\n",
       "    <tr>\n",
       "      <th>41242</th>\n",
       "      <td>2019-10-20</td>\n",
       "      <td>Ivory Coast</td>\n",
       "      <td>Niger</td>\n",
       "      <td>1</td>\n",
       "      <td>0</td>\n",
       "      <td>African Nations Championship qualifying</td>\n",
       "      <td>Ivory Coast</td>\n",
       "      <td>Ivory Coast</td>\n",
       "      <td>False</td>\n",
       "    </tr>\n",
       "  </tbody>\n",
       "</table>\n",
       "<p>41243 rows × 9 columns</p>\n",
       "</div>"
      ],
      "text/plain": [
       "             date     home_team   away_team  home_score  away_score  \\\n",
       "0      1872-11-30      Scotland     England           0           0   \n",
       "1      1873-03-08       England    Scotland           4           2   \n",
       "2      1874-03-07      Scotland     England           2           1   \n",
       "3      1875-03-06       England    Scotland           2           2   \n",
       "4      1876-03-04      Scotland     England           3           0   \n",
       "...           ...           ...         ...         ...         ...   \n",
       "41238  2019-10-20       Lesotho    Zimbabwe           0           0   \n",
       "41239  2019-10-20        Guinea     Senegal           1           0   \n",
       "41240  2019-10-20          Mali  Mauritania           2           0   \n",
       "41241  2019-10-20  Burkina Faso       Ghana           0           0   \n",
       "41242  2019-10-20   Ivory Coast       Niger           1           0   \n",
       "\n",
       "                                    tournament          city       country  \\\n",
       "0                                     Friendly       Glasgow      Scotland   \n",
       "1                                     Friendly        London       England   \n",
       "2                                     Friendly       Glasgow      Scotland   \n",
       "3                                     Friendly        London       England   \n",
       "4                                     Friendly       Glasgow      Scotland   \n",
       "...                                        ...           ...           ...   \n",
       "41238  African Nations Championship qualifying       Lesotho       Lesotho   \n",
       "41239  African Nations Championship qualifying       Conakry        Guinea   \n",
       "41240  African Nations Championship qualifying          Mali          Mali   \n",
       "41241  African Nations Championship qualifying  Burkina Faso  Burkina Faso   \n",
       "41242  African Nations Championship qualifying   Ivory Coast   Ivory Coast   \n",
       "\n",
       "       neutral  \n",
       "0        False  \n",
       "1        False  \n",
       "2        False  \n",
       "3        False  \n",
       "4        False  \n",
       "...        ...  \n",
       "41238    False  \n",
       "41239    False  \n",
       "41240    False  \n",
       "41241    False  \n",
       "41242    False  \n",
       "\n",
       "[41243 rows x 9 columns]"
      ]
     },
     "metadata": {},
     "output_type": "display_data"
    }
   ],
   "source": [
    "results = pd.read_csv('./results.csv')\n",
    "results.dtypes\n",
    "display(results)"
   ]
  },
  {
   "cell_type": "code",
   "execution_count": 3,
   "metadata": {},
   "outputs": [],
   "source": [
    "def home_away_draws(df): #returns number of home wins, away wins, draws and total games played \n",
    "    home_wins=len(df[df.away_score<df.home_score])\n",
    "    away_wins=len(df[df.away_score>df.home_score])\n",
    "    draws=len(df[df.away_score==df.home_score])\n",
    "    total_games_played=home_wins+away_wins+draws\n",
    "    avg_home=df['home_score'].mean()\n",
    "    avg_away=df['away_score'].mean()\n",
    "    return home_wins,away_wins,draws,total_games_played,avg_home,avg_away"
   ]
  },
  {
   "cell_type": "code",
   "execution_count": 4,
   "metadata": {},
   "outputs": [
    {
     "name": "stdout",
     "output_type": "stream",
     "text": [
      "112\n",
      "266\n",
      "2002\n"
     ]
    }
   ],
   "source": [
    "print(len(results['tournament'].unique()))\n",
    "print(len(results['country'].unique()))\n",
    "print(len(results['city'].unique()))"
   ]
  },
  {
   "cell_type": "code",
   "execution_count": 5,
   "metadata": {},
   "outputs": [
    {
     "ename": "NameError",
     "evalue": "name 'df' is not defined",
     "output_type": "error",
     "traceback": [
      "\u001b[0;31m---------------------------------------------------------------------------\u001b[0m",
      "\u001b[0;31mNameError\u001b[0m                                 Traceback (most recent call last)",
      "\u001b[0;32m<ipython-input-5-88722c876a7e>\u001b[0m in \u001b[0;36m<module>\u001b[0;34m\u001b[0m\n\u001b[0;32m----> 1\u001b[0;31m \u001b[0mprint\u001b[0m\u001b[0;34m(\u001b[0m\u001b[0mdf\u001b[0m\u001b[0;34m[\u001b[0m\u001b[0;34m'country'\u001b[0m\u001b[0;34m]\u001b[0m\u001b[0;34m.\u001b[0m\u001b[0mvalue_counts\u001b[0m\u001b[0;34m(\u001b[0m\u001b[0;34m)\u001b[0m\u001b[0;34m)\u001b[0m\u001b[0;34m\u001b[0m\u001b[0;34m\u001b[0m\u001b[0m\n\u001b[0m\u001b[1;32m      2\u001b[0m \u001b[0mprint\u001b[0m\u001b[0;34m(\u001b[0m\u001b[0mdf\u001b[0m\u001b[0;34m[\u001b[0m\u001b[0;34m'city'\u001b[0m\u001b[0;34m]\u001b[0m\u001b[0;34m.\u001b[0m\u001b[0mvalue_counts\u001b[0m\u001b[0;34m(\u001b[0m\u001b[0;34m)\u001b[0m\u001b[0;34m)\u001b[0m\u001b[0;34m\u001b[0m\u001b[0;34m\u001b[0m\u001b[0m\n",
      "\u001b[0;31mNameError\u001b[0m: name 'df' is not defined"
     ]
    }
   ],
   "source": [
    "print(df['country'].value_counts())\n",
    "print(df['city'].value_counts())"
   ]
  },
  {
   "cell_type": "markdown",
   "metadata": {},
   "source": [
    "##### I checked the same stats for Non-friendly matches and it confirms the same relations above"
   ]
  },
  {
   "cell_type": "markdown",
   "metadata": {},
   "source": [
    "### Major Tournaments\n",
    "FIFA (Intercontinental competitions)  \n",
    "AFC (Asian competitions)  \n",
    "CAF (African competitions)  \n",
    "CONCACAF (North American, Central American, and Caribbean competitions) (NAFU+CCCF)  \n",
    "CONMEBOL (South American competitions)  \n",
    "OFC (Oceanian competitions)  \n",
    "UEFA (European competitions)  \n",
    "\n",
    "I have just picked out 'Major' tournaments. The critera for major is debatable and I would love to see a discussion about it\n",
    "\n",
    "https://en.wikipedia.org/wiki/List_of_association_football_competitions"
   ]
  },
  {
   "cell_type": "code",
   "execution_count": 6,
   "metadata": {},
   "outputs": [],
   "source": [
    "major_tournaments = ['FIFA World Cup','Confederations Cup','Oceania Nations Cup','CCCF Championship','AFC Asian Cup','Copa América','Gold Cup','UEFA Euro','NAFU Championship','African Cup of Nations']\n",
    "\n",
    "major=results.loc[results['tournament'].isin(major_tournaments) , :]"
   ]
  },
  {
   "cell_type": "code",
   "execution_count": 7,
   "metadata": {},
   "outputs": [
    {
     "name": "stdout",
     "output_type": "stream",
     "text": [
      "Away wins: 1117\n",
      "Home wins: 1798\n",
      "Draws: 842\n",
      "Home side goal per game: 1.6766036731434655\n",
      "Away side goal per game: 1.2086771360127762\n",
      "0.4785733297844024\n",
      "0.2973116848549375\n",
      "0.2241149853606601\n"
     ]
    }
   ],
   "source": [
    "m_home_wins, m_away_wins, m_draws, m_total_games_played, m_home_score_avg, m_away_score_avg = home_away_draws(major)\n",
    "print(f'Away wins: {m_away_wins}')\n",
    "print(f'Home wins: {m_home_wins}')\n",
    "print(f'Draws: {m_draws}')\n",
    "print(f'Home side goal per game: {m_home_score_avg}')\n",
    "print(f'Away side goal per game: {m_away_score_avg}')\n",
    "\n",
    "print(m_home_wins/m_total_games_played)\n",
    "print(m_away_wins/m_total_games_played)\n",
    "print(m_draws/m_total_games_played)"
   ]
  },
  {
   "cell_type": "code",
   "execution_count": 8,
   "metadata": {},
   "outputs": [
    {
     "name": "stdout",
     "output_type": "stream",
     "text": [
      "Away wins: 174\n",
      "Home wins: 548\n",
      "Draws: 190\n",
      "Home side goal per game: 1.9989035087719298\n",
      "Away side goal per game: 0.9528508771929824\n",
      "0.6008771929824561\n",
      "0.19078947368421054\n",
      "0.20833333333333334\n"
     ]
    }
   ],
   "source": [
    "#Matches that were played in either home or away grounds (non-neutral games)\n",
    "major_nn = major[major['neutral']==False]\n",
    "nn_m_home_wins, nn_m_away_wins, nn_m_draws, nn_m_total_games_played, nn_m_home_score_avg, nn_m_away_score_avg = home_away_draws(major_nn)\n",
    "\n",
    "print(f'Away wins: {nn_m_away_wins}')\n",
    "print(f'Home wins: {nn_m_home_wins}')\n",
    "print(f'Draws: {nn_m_draws}')\n",
    "print(f'Home side goal per game: {nn_m_home_score_avg}')\n",
    "print(f'Away side goal per game: {nn_m_away_score_avg}')\n",
    "\n",
    "print(nn_m_home_wins/nn_m_total_games_played)\n",
    "print(nn_m_away_wins/nn_m_total_games_played)\n",
    "print(nn_m_draws/nn_m_total_games_played)"
   ]
  },
  {
   "cell_type": "code",
   "execution_count": 9,
   "metadata": {},
   "outputs": [
    {
     "ename": "NameError",
     "evalue": "name 'home_score_avg' is not defined",
     "output_type": "error",
     "traceback": [
      "\u001b[0;31m---------------------------------------------------------------------------\u001b[0m",
      "\u001b[0;31mNameError\u001b[0m                                 Traceback (most recent call last)",
      "\u001b[0;32m<ipython-input-9-533168abac9e>\u001b[0m in \u001b[0;36m<module>\u001b[0;34m\u001b[0m\n\u001b[0;32m----> 1\u001b[0;31m \u001b[0mgoal_per_game\u001b[0m\u001b[0;34m=\u001b[0m \u001b[0;34m[\u001b[0m\u001b[0mhome_score_avg\u001b[0m\u001b[0;34m,\u001b[0m\u001b[0maway_score_avg\u001b[0m\u001b[0;34m,\u001b[0m\u001b[0mnn_home_score_avg\u001b[0m\u001b[0;34m,\u001b[0m\u001b[0mnn_away_score_avg\u001b[0m\u001b[0;34m,\u001b[0m\u001b[0mm_home_score_avg\u001b[0m\u001b[0;34m,\u001b[0m\u001b[0mm_away_score_avg\u001b[0m\u001b[0;34m,\u001b[0m\u001b[0mnn_m_home_score_avg\u001b[0m\u001b[0;34m,\u001b[0m\u001b[0mnn_m_away_score_avg\u001b[0m\u001b[0;34m]\u001b[0m\u001b[0;34m\u001b[0m\u001b[0;34m\u001b[0m\u001b[0m\n\u001b[0m",
      "\u001b[0;31mNameError\u001b[0m: name 'home_score_avg' is not defined"
     ]
    }
   ],
   "source": [
    "goal_per_game= [home_score_avg,away_score_avg,nn_home_score_avg,nn_away_score_avg,m_home_score_avg,m_away_score_avg,nn_m_home_score_avg,nn_m_away_score_avg]"
   ]
  },
  {
   "cell_type": "code",
   "execution_count": null,
   "metadata": {},
   "outputs": [],
   "source": [
    "barWidth = 0.25\n",
    " \n",
    "bars1 = [home_score_avg,nn_home_score_avg,m_home_score_avg,nn_m_home_score_avg]\n",
    "bars2 = [away_score_avg,nn_away_score_avg,m_away_score_avg,nn_m_away_score_avg]\n",
    " \n",
    "r1 = np.arange(len(bars1))\n",
    "r2 = [x + barWidth for x in r1]\n",
    " \n",
    "plt.bar(r1, bars1, color='#506075', width=barWidth, edgecolor='white')\n",
    "plt.bar(r2, bars2, color='#182333', width=barWidth, edgecolor='white')\n",
    " \n",
    "plt.xlabel('group')\n",
    "plt.xticks([r + barWidth for r in range(len(bars1))], [\"all\",\"nn_all\",\"m_all\",\"nn_m_all\"])\n",
    " \n",
    "plt.legend()\n",
    "plt.show()"
   ]
  },
  {
   "cell_type": "code",
   "execution_count": null,
   "metadata": {},
   "outputs": [],
   "source": [
    "xn=[nn_m_home_wins/nn_m_total_games_played,nn_m_away_wins/nn_m_total_games_played,nn_m_draws/nn_m_total_games_played]\n",
    "labels = ['Home wins', 'Away wins', 'Draws']\n",
    "sizes = xn\n",
    "colors = ['#4d5061','#30323d','#e8c547']\n",
    " \n",
    "fig1, ax1 = plt.subplots()\n",
    "patches, texts, autotexts = ax1.pie(sizes, colors = colors, labels=labels, autopct='%1.1f%%', startangle=90)\n",
    "for text in texts:\n",
    "    text.set_color('white')\n",
    "for autotext in autotexts:\n",
    "    autotext.set_color('grey')# Equal aspect ratio ensures that pie is drawn as a circle\n",
    "ax1.axis('equal')  \n",
    "plt.tight_layout()\n",
    "plt.show()"
   ]
  },
  {
   "cell_type": "code",
   "execution_count": 14,
   "metadata": {},
   "outputs": [
    {
     "name": "stdout",
     "output_type": "stream",
     "text": [
      "Montevideo      101\n",
      "Santiago         97\n",
      "Buenos Aires     96\n",
      "Lima             80\n",
      "Cairo            66\n",
      "Name: city, dtype: int64\n",
      "United States    393\n",
      "Brazil           211\n",
      "France           168\n",
      "Argentina        160\n",
      "Chile            155\n",
      "Name: country, dtype: int64\n"
     ]
    }
   ],
   "source": [
    "#ost played stadiums \n",
    "\n",
    "print(major['city'].value_counts()[:5])\n",
    "print(major['country'].value_counts()[:5])"
   ]
  },
  {
   "cell_type": "code",
   "execution_count": null,
   "metadata": {},
   "outputs": [],
   "source": [
    "Most played staiums \n",
    "goal graphs\n"
   ]
  },
  {
   "cell_type": "code",
   "execution_count": null,
   "metadata": {},
   "outputs": [],
   "source": []
  },
  {
   "cell_type": "code",
   "execution_count": null,
   "metadata": {},
   "outputs": [],
   "source": []
  },
  {
   "cell_type": "markdown",
   "metadata": {},
   "source": [
    "### All matches"
   ]
  },
  {
   "cell_type": "code",
   "execution_count": 26,
   "metadata": {},
   "outputs": [
    {
     "name": "stdout",
     "output_type": "stream",
     "text": [
      "Away wins: 11671\n",
      "Home wins: 20053\n",
      "Draws: 9519\n",
      "Home side goal per game: 1.744974904832335\n",
      "Away side goal per game: 1.1893169750018184\n",
      "0.48621584268845625\n",
      "0.2829813544116577\n",
      "0.23080280289988603\n"
     ]
    }
   ],
   "source": [
    "home_wins, away_wins, draws, total_games_played, home_score_avg, away_score_avg = home_away_draws(results)\n",
    "print(f'Away wins: {away_wins}')\n",
    "print(f'Home wins: {home_wins}')\n",
    "print(f'Draws: {draws}')\n",
    "print(f'Home side goal per game: {home_score_avg}')\n",
    "print(f'Away side goal per game: {away_score_avg}')\n",
    "\n",
    "print(home_wins/total_games_played)\n",
    "print(away_wins/total_games_played)\n",
    "print(draws/total_games_played)"
   ]
  },
  {
   "cell_type": "code",
   "execution_count": 27,
   "metadata": {},
   "outputs": [
    {
     "name": "stdout",
     "output_type": "stream",
     "text": [
      "Away wins: 8185\n",
      "Home wins: 15644\n",
      "Draws: 7186\n",
      "Home side goal per game: 1.7763985168466871\n",
      "Away side goal per game: 1.1208125100757698\n",
      "0.5044010962437531\n",
      "0.26390456230856035\n",
      "0.2316943414476866\n"
     ]
    }
   ],
   "source": [
    "#Matches that were played in either home or away grounds (non-neutral games)\n",
    "nn_results = results[results['neutral']==False]\n",
    "nn_home_wins, nn_away_wins, nn_draws, nn_total_games_played, nn_home_score_avg, nn_away_score_avg = home_away_draws(nn_results)\n",
    "\n",
    "print(f'Away wins: {nn_away_wins}')\n",
    "print(f'Home wins: {nn_home_wins}')\n",
    "print(f'Draws: {nn_draws}')\n",
    "print(f'Home side goal per game: {nn_home_score_avg}')\n",
    "print(f'Away side goal per game: {nn_away_score_avg}')\n",
    "\n",
    "print(nn_home_wins/nn_total_games_played)\n",
    "print(nn_away_wins/nn_total_games_played)\n",
    "print(nn_draws/nn_total_games_played)"
   ]
  }
 ],
 "metadata": {
  "kernelspec": {
   "display_name": "Python 3",
   "language": "python",
   "name": "python3"
  },
  "language_info": {
   "codemirror_mode": {
    "name": "ipython",
    "version": 3
   },
   "file_extension": ".py",
   "mimetype": "text/x-python",
   "name": "python",
   "nbconvert_exporter": "python",
   "pygments_lexer": "ipython3",
   "version": "3.7.3"
  }
 },
 "nbformat": 4,
 "nbformat_minor": 2
}
