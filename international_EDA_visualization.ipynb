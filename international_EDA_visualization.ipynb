{
 "cells": [
  {
   "cell_type": "markdown",
   "metadata": {},
   "source": [
    "# International football resluts from 1872-2017"
   ]
  },
  {
   "cell_type": "code",
   "execution_count": 44,
   "metadata": {},
   "outputs": [],
   "source": [
    "import pandas as pd \n",
    "import numpy as np \n",
    "import matplotlib.pyplot as plt\n",
    "import seaborn as sns"
   ]
  },
  {
   "cell_type": "code",
   "execution_count": 45,
   "metadata": {},
   "outputs": [
    {
     "name": "stdout",
     "output_type": "stream",
     "text": [
      "date          object\n",
      "home_team     object\n",
      "away_team     object\n",
      "home_score     int64\n",
      "away_score     int64\n",
      "tournament    object\n",
      "city          object\n",
      "country       object\n",
      "neutral         bool\n",
      "dtype: object\n"
     ]
    },
    {
     "data": {
      "text/html": [
       "<div>\n",
       "<style scoped>\n",
       "    .dataframe tbody tr th:only-of-type {\n",
       "        vertical-align: middle;\n",
       "    }\n",
       "\n",
       "    .dataframe tbody tr th {\n",
       "        vertical-align: top;\n",
       "    }\n",
       "\n",
       "    .dataframe thead th {\n",
       "        text-align: right;\n",
       "    }\n",
       "</style>\n",
       "<table border=\"1\" class=\"dataframe\">\n",
       "  <thead>\n",
       "    <tr style=\"text-align: right;\">\n",
       "      <th></th>\n",
       "      <th>date</th>\n",
       "      <th>home_team</th>\n",
       "      <th>away_team</th>\n",
       "      <th>home_score</th>\n",
       "      <th>away_score</th>\n",
       "      <th>tournament</th>\n",
       "      <th>city</th>\n",
       "      <th>country</th>\n",
       "      <th>neutral</th>\n",
       "    </tr>\n",
       "  </thead>\n",
       "  <tbody>\n",
       "    <tr>\n",
       "      <th>0</th>\n",
       "      <td>1872-11-30</td>\n",
       "      <td>Scotland</td>\n",
       "      <td>England</td>\n",
       "      <td>0</td>\n",
       "      <td>0</td>\n",
       "      <td>Friendly</td>\n",
       "      <td>Glasgow</td>\n",
       "      <td>Scotland</td>\n",
       "      <td>False</td>\n",
       "    </tr>\n",
       "    <tr>\n",
       "      <th>1</th>\n",
       "      <td>1873-03-08</td>\n",
       "      <td>England</td>\n",
       "      <td>Scotland</td>\n",
       "      <td>4</td>\n",
       "      <td>2</td>\n",
       "      <td>Friendly</td>\n",
       "      <td>London</td>\n",
       "      <td>England</td>\n",
       "      <td>False</td>\n",
       "    </tr>\n",
       "    <tr>\n",
       "      <th>2</th>\n",
       "      <td>1874-03-07</td>\n",
       "      <td>Scotland</td>\n",
       "      <td>England</td>\n",
       "      <td>2</td>\n",
       "      <td>1</td>\n",
       "      <td>Friendly</td>\n",
       "      <td>Glasgow</td>\n",
       "      <td>Scotland</td>\n",
       "      <td>False</td>\n",
       "    </tr>\n",
       "    <tr>\n",
       "      <th>3</th>\n",
       "      <td>1875-03-06</td>\n",
       "      <td>England</td>\n",
       "      <td>Scotland</td>\n",
       "      <td>2</td>\n",
       "      <td>2</td>\n",
       "      <td>Friendly</td>\n",
       "      <td>London</td>\n",
       "      <td>England</td>\n",
       "      <td>False</td>\n",
       "    </tr>\n",
       "    <tr>\n",
       "      <th>4</th>\n",
       "      <td>1876-03-04</td>\n",
       "      <td>Scotland</td>\n",
       "      <td>England</td>\n",
       "      <td>3</td>\n",
       "      <td>0</td>\n",
       "      <td>Friendly</td>\n",
       "      <td>Glasgow</td>\n",
       "      <td>Scotland</td>\n",
       "      <td>False</td>\n",
       "    </tr>\n",
       "    <tr>\n",
       "      <th>...</th>\n",
       "      <td>...</td>\n",
       "      <td>...</td>\n",
       "      <td>...</td>\n",
       "      <td>...</td>\n",
       "      <td>...</td>\n",
       "      <td>...</td>\n",
       "      <td>...</td>\n",
       "      <td>...</td>\n",
       "      <td>...</td>\n",
       "    </tr>\n",
       "    <tr>\n",
       "      <th>41238</th>\n",
       "      <td>2019-10-20</td>\n",
       "      <td>Lesotho</td>\n",
       "      <td>Zimbabwe</td>\n",
       "      <td>0</td>\n",
       "      <td>0</td>\n",
       "      <td>African Nations Championship qualifying</td>\n",
       "      <td>Lesotho</td>\n",
       "      <td>Lesotho</td>\n",
       "      <td>False</td>\n",
       "    </tr>\n",
       "    <tr>\n",
       "      <th>41239</th>\n",
       "      <td>2019-10-20</td>\n",
       "      <td>Guinea</td>\n",
       "      <td>Senegal</td>\n",
       "      <td>1</td>\n",
       "      <td>0</td>\n",
       "      <td>African Nations Championship qualifying</td>\n",
       "      <td>Conakry</td>\n",
       "      <td>Guinea</td>\n",
       "      <td>False</td>\n",
       "    </tr>\n",
       "    <tr>\n",
       "      <th>41240</th>\n",
       "      <td>2019-10-20</td>\n",
       "      <td>Mali</td>\n",
       "      <td>Mauritania</td>\n",
       "      <td>2</td>\n",
       "      <td>0</td>\n",
       "      <td>African Nations Championship qualifying</td>\n",
       "      <td>Mali</td>\n",
       "      <td>Mali</td>\n",
       "      <td>False</td>\n",
       "    </tr>\n",
       "    <tr>\n",
       "      <th>41241</th>\n",
       "      <td>2019-10-20</td>\n",
       "      <td>Burkina Faso</td>\n",
       "      <td>Ghana</td>\n",
       "      <td>0</td>\n",
       "      <td>0</td>\n",
       "      <td>African Nations Championship qualifying</td>\n",
       "      <td>Burkina Faso</td>\n",
       "      <td>Burkina Faso</td>\n",
       "      <td>False</td>\n",
       "    </tr>\n",
       "    <tr>\n",
       "      <th>41242</th>\n",
       "      <td>2019-10-20</td>\n",
       "      <td>Ivory Coast</td>\n",
       "      <td>Niger</td>\n",
       "      <td>1</td>\n",
       "      <td>0</td>\n",
       "      <td>African Nations Championship qualifying</td>\n",
       "      <td>Ivory Coast</td>\n",
       "      <td>Ivory Coast</td>\n",
       "      <td>False</td>\n",
       "    </tr>\n",
       "  </tbody>\n",
       "</table>\n",
       "<p>41243 rows × 9 columns</p>\n",
       "</div>"
      ],
      "text/plain": [
       "             date     home_team   away_team  home_score  away_score  \\\n",
       "0      1872-11-30      Scotland     England           0           0   \n",
       "1      1873-03-08       England    Scotland           4           2   \n",
       "2      1874-03-07      Scotland     England           2           1   \n",
       "3      1875-03-06       England    Scotland           2           2   \n",
       "4      1876-03-04      Scotland     England           3           0   \n",
       "...           ...           ...         ...         ...         ...   \n",
       "41238  2019-10-20       Lesotho    Zimbabwe           0           0   \n",
       "41239  2019-10-20        Guinea     Senegal           1           0   \n",
       "41240  2019-10-20          Mali  Mauritania           2           0   \n",
       "41241  2019-10-20  Burkina Faso       Ghana           0           0   \n",
       "41242  2019-10-20   Ivory Coast       Niger           1           0   \n",
       "\n",
       "                                    tournament          city       country  \\\n",
       "0                                     Friendly       Glasgow      Scotland   \n",
       "1                                     Friendly        London       England   \n",
       "2                                     Friendly       Glasgow      Scotland   \n",
       "3                                     Friendly        London       England   \n",
       "4                                     Friendly       Glasgow      Scotland   \n",
       "...                                        ...           ...           ...   \n",
       "41238  African Nations Championship qualifying       Lesotho       Lesotho   \n",
       "41239  African Nations Championship qualifying       Conakry        Guinea   \n",
       "41240  African Nations Championship qualifying          Mali          Mali   \n",
       "41241  African Nations Championship qualifying  Burkina Faso  Burkina Faso   \n",
       "41242  African Nations Championship qualifying   Ivory Coast   Ivory Coast   \n",
       "\n",
       "       neutral  \n",
       "0        False  \n",
       "1        False  \n",
       "2        False  \n",
       "3        False  \n",
       "4        False  \n",
       "...        ...  \n",
       "41238    False  \n",
       "41239    False  \n",
       "41240    False  \n",
       "41241    False  \n",
       "41242    False  \n",
       "\n",
       "[41243 rows x 9 columns]"
      ]
     },
     "metadata": {},
     "output_type": "display_data"
    }
   ],
   "source": [
    "results = pd.read_csv('./results.csv')\n",
    "print(results.dtypes)\n",
    "display(results)"
   ]
  },
  {
   "cell_type": "code",
   "execution_count": 46,
   "metadata": {},
   "outputs": [
    {
     "data": {
      "text/html": [
       "<div>\n",
       "<style scoped>\n",
       "    .dataframe tbody tr th:only-of-type {\n",
       "        vertical-align: middle;\n",
       "    }\n",
       "\n",
       "    .dataframe tbody tr th {\n",
       "        vertical-align: top;\n",
       "    }\n",
       "\n",
       "    .dataframe thead th {\n",
       "        text-align: right;\n",
       "    }\n",
       "</style>\n",
       "<table border=\"1\" class=\"dataframe\">\n",
       "  <thead>\n",
       "    <tr style=\"text-align: right;\">\n",
       "      <th></th>\n",
       "      <th>date</th>\n",
       "      <th>home_team</th>\n",
       "      <th>away_team</th>\n",
       "      <th>home_score</th>\n",
       "      <th>away_score</th>\n",
       "      <th>tournament</th>\n",
       "      <th>city</th>\n",
       "      <th>country</th>\n",
       "      <th>neutral</th>\n",
       "      <th>result</th>\n",
       "    </tr>\n",
       "  </thead>\n",
       "  <tbody>\n",
       "    <tr>\n",
       "      <th>0</th>\n",
       "      <td>1872-11-30</td>\n",
       "      <td>Scotland</td>\n",
       "      <td>England</td>\n",
       "      <td>0</td>\n",
       "      <td>0</td>\n",
       "      <td>Friendly</td>\n",
       "      <td>Glasgow</td>\n",
       "      <td>Scotland</td>\n",
       "      <td>False</td>\n",
       "      <td>draw</td>\n",
       "    </tr>\n",
       "    <tr>\n",
       "      <th>1</th>\n",
       "      <td>1873-03-08</td>\n",
       "      <td>England</td>\n",
       "      <td>Scotland</td>\n",
       "      <td>4</td>\n",
       "      <td>2</td>\n",
       "      <td>Friendly</td>\n",
       "      <td>London</td>\n",
       "      <td>England</td>\n",
       "      <td>False</td>\n",
       "      <td>home_win</td>\n",
       "    </tr>\n",
       "    <tr>\n",
       "      <th>2</th>\n",
       "      <td>1874-03-07</td>\n",
       "      <td>Scotland</td>\n",
       "      <td>England</td>\n",
       "      <td>2</td>\n",
       "      <td>1</td>\n",
       "      <td>Friendly</td>\n",
       "      <td>Glasgow</td>\n",
       "      <td>Scotland</td>\n",
       "      <td>False</td>\n",
       "      <td>home_win</td>\n",
       "    </tr>\n",
       "    <tr>\n",
       "      <th>3</th>\n",
       "      <td>1875-03-06</td>\n",
       "      <td>England</td>\n",
       "      <td>Scotland</td>\n",
       "      <td>2</td>\n",
       "      <td>2</td>\n",
       "      <td>Friendly</td>\n",
       "      <td>London</td>\n",
       "      <td>England</td>\n",
       "      <td>False</td>\n",
       "      <td>draw</td>\n",
       "    </tr>\n",
       "    <tr>\n",
       "      <th>4</th>\n",
       "      <td>1876-03-04</td>\n",
       "      <td>Scotland</td>\n",
       "      <td>England</td>\n",
       "      <td>3</td>\n",
       "      <td>0</td>\n",
       "      <td>Friendly</td>\n",
       "      <td>Glasgow</td>\n",
       "      <td>Scotland</td>\n",
       "      <td>False</td>\n",
       "      <td>home_win</td>\n",
       "    </tr>\n",
       "    <tr>\n",
       "      <th>...</th>\n",
       "      <td>...</td>\n",
       "      <td>...</td>\n",
       "      <td>...</td>\n",
       "      <td>...</td>\n",
       "      <td>...</td>\n",
       "      <td>...</td>\n",
       "      <td>...</td>\n",
       "      <td>...</td>\n",
       "      <td>...</td>\n",
       "      <td>...</td>\n",
       "    </tr>\n",
       "    <tr>\n",
       "      <th>41238</th>\n",
       "      <td>2019-10-20</td>\n",
       "      <td>Lesotho</td>\n",
       "      <td>Zimbabwe</td>\n",
       "      <td>0</td>\n",
       "      <td>0</td>\n",
       "      <td>African Nations Championship qualifying</td>\n",
       "      <td>Lesotho</td>\n",
       "      <td>Lesotho</td>\n",
       "      <td>False</td>\n",
       "      <td>draw</td>\n",
       "    </tr>\n",
       "    <tr>\n",
       "      <th>41239</th>\n",
       "      <td>2019-10-20</td>\n",
       "      <td>Guinea</td>\n",
       "      <td>Senegal</td>\n",
       "      <td>1</td>\n",
       "      <td>0</td>\n",
       "      <td>African Nations Championship qualifying</td>\n",
       "      <td>Conakry</td>\n",
       "      <td>Guinea</td>\n",
       "      <td>False</td>\n",
       "      <td>home_win</td>\n",
       "    </tr>\n",
       "    <tr>\n",
       "      <th>41240</th>\n",
       "      <td>2019-10-20</td>\n",
       "      <td>Mali</td>\n",
       "      <td>Mauritania</td>\n",
       "      <td>2</td>\n",
       "      <td>0</td>\n",
       "      <td>African Nations Championship qualifying</td>\n",
       "      <td>Mali</td>\n",
       "      <td>Mali</td>\n",
       "      <td>False</td>\n",
       "      <td>home_win</td>\n",
       "    </tr>\n",
       "    <tr>\n",
       "      <th>41241</th>\n",
       "      <td>2019-10-20</td>\n",
       "      <td>Burkina Faso</td>\n",
       "      <td>Ghana</td>\n",
       "      <td>0</td>\n",
       "      <td>0</td>\n",
       "      <td>African Nations Championship qualifying</td>\n",
       "      <td>Burkina Faso</td>\n",
       "      <td>Burkina Faso</td>\n",
       "      <td>False</td>\n",
       "      <td>draw</td>\n",
       "    </tr>\n",
       "    <tr>\n",
       "      <th>41242</th>\n",
       "      <td>2019-10-20</td>\n",
       "      <td>Ivory Coast</td>\n",
       "      <td>Niger</td>\n",
       "      <td>1</td>\n",
       "      <td>0</td>\n",
       "      <td>African Nations Championship qualifying</td>\n",
       "      <td>Ivory Coast</td>\n",
       "      <td>Ivory Coast</td>\n",
       "      <td>False</td>\n",
       "      <td>home_win</td>\n",
       "    </tr>\n",
       "  </tbody>\n",
       "</table>\n",
       "<p>41243 rows × 10 columns</p>\n",
       "</div>"
      ],
      "text/plain": [
       "             date     home_team   away_team  home_score  away_score  \\\n",
       "0      1872-11-30      Scotland     England           0           0   \n",
       "1      1873-03-08       England    Scotland           4           2   \n",
       "2      1874-03-07      Scotland     England           2           1   \n",
       "3      1875-03-06       England    Scotland           2           2   \n",
       "4      1876-03-04      Scotland     England           3           0   \n",
       "...           ...           ...         ...         ...         ...   \n",
       "41238  2019-10-20       Lesotho    Zimbabwe           0           0   \n",
       "41239  2019-10-20        Guinea     Senegal           1           0   \n",
       "41240  2019-10-20          Mali  Mauritania           2           0   \n",
       "41241  2019-10-20  Burkina Faso       Ghana           0           0   \n",
       "41242  2019-10-20   Ivory Coast       Niger           1           0   \n",
       "\n",
       "                                    tournament          city       country  \\\n",
       "0                                     Friendly       Glasgow      Scotland   \n",
       "1                                     Friendly        London       England   \n",
       "2                                     Friendly       Glasgow      Scotland   \n",
       "3                                     Friendly        London       England   \n",
       "4                                     Friendly       Glasgow      Scotland   \n",
       "...                                        ...           ...           ...   \n",
       "41238  African Nations Championship qualifying       Lesotho       Lesotho   \n",
       "41239  African Nations Championship qualifying       Conakry        Guinea   \n",
       "41240  African Nations Championship qualifying          Mali          Mali   \n",
       "41241  African Nations Championship qualifying  Burkina Faso  Burkina Faso   \n",
       "41242  African Nations Championship qualifying   Ivory Coast   Ivory Coast   \n",
       "\n",
       "       neutral    result  \n",
       "0        False      draw  \n",
       "1        False  home_win  \n",
       "2        False  home_win  \n",
       "3        False      draw  \n",
       "4        False  home_win  \n",
       "...        ...       ...  \n",
       "41238    False      draw  \n",
       "41239    False  home_win  \n",
       "41240    False  home_win  \n",
       "41241    False      draw  \n",
       "41242    False  home_win  \n",
       "\n",
       "[41243 rows x 10 columns]"
      ]
     },
     "execution_count": 46,
     "metadata": {},
     "output_type": "execute_result"
    }
   ],
   "source": [
    "conditions=[ results['home_score']>results['away_score'],results['home_score']==results['away_score'],results['home_score']<results['away_score']]\n",
    "match_result=[ \"home_win\", 'draw', 'away_win']\n",
    "\n",
    "results[\"result\"] = np.select(conditions, match_result)\n",
    "results"
   ]
  },
  {
   "cell_type": "code",
   "execution_count": 47,
   "metadata": {},
   "outputs": [],
   "source": [
    "def home_away_draws(df): #returns number of home wins, away wins, draws and total games played \n",
    "    home_wins=len(df[df.away_score<df.home_score])\n",
    "    away_wins=len(df[df.away_score>df.home_score])\n",
    "    draws=len(df[df.away_score==df.home_score])\n",
    "    total_games_played=home_wins+away_wins+draws\n",
    "    avg_home=df['home_score'].mean()\n",
    "    avg_away=df['away_score'].mean()\n",
    "    return home_wins,away_wins,draws,total_games_played,avg_home,avg_away"
   ]
  },
  {
   "cell_type": "code",
   "execution_count": 48,
   "metadata": {},
   "outputs": [],
   "source": [
    "def draw_pie(pie):\n",
    "    labels = ['Home wins', 'Away wins', 'Draws']\n",
    "    sizes = pie\n",
    "    colors = ['#39375b','#745c97','#d597ce']\n",
    "    plt.figure(figsize=(15,10))\n",
    "    fig1, ax1 = plt.subplots()\n",
    "    patches, texts, autotexts = ax1.pie(sizes, colors = colors, labels=labels, autopct='%1.1f%%', startangle=90)\n",
    "    for text in texts:\n",
    "        text.set_color('grey')\n",
    "    for autotext in autotexts:\n",
    "        autotext.set_color('white')\n",
    "    ax1.axis('equal')  \n",
    "    plt.tight_layout()\n",
    "    plt.show()"
   ]
  },
  {
   "cell_type": "markdown",
   "metadata": {},
   "source": [
    "##### I checked the same stats for Non-friendly matches and it confirms the same relations above"
   ]
  },
  {
   "cell_type": "markdown",
   "metadata": {},
   "source": [
    "### Major Tournaments\n",
    "FIFA (Intercontinental competitions) Confederations Cup & FIFA World Cup  \n",
    "AFC (Asian competitions) AFC Asian Cup  \n",
    "CAF (African competitions) African Cup of Nations  \n",
    "CONCACAF (North American, Central American, and Caribbean competitions) NAFU,CCCF Championship & Gold Cup  \n",
    "CONMEBOL (South American competitions) Copa América  \n",
    "OFC (Oceanian competitions) Oceania Nations Cup  \n",
    "UEFA (European competitions)  UEFA Euro\n",
    "\n",
    "I have just picked out 'Major' tournaments. The critera for major is debatable and I would love to see a discussion about it\n",
    "\n",
    "https://en.wikipedia.org/wiki/List_of_association_football_competitions"
   ]
  },
  {
   "cell_type": "code",
   "execution_count": 114,
   "metadata": {},
   "outputs": [],
   "source": [
    "major_tournaments = ['FIFA World Cup','Confederations Cup','Oceania Nations Cup','CCCF Championship','AFC Asian Cup','Copa América','Gold Cup','UEFA Euro','NAFU Championship','African Cup of Nations']\n",
    "\n",
    "major=results.loc[results['tournament'].isin(major_tournaments) , :]"
   ]
  },
  {
   "cell_type": "markdown",
   "metadata": {},
   "source": [
    "## Home or Away?"
   ]
  },
  {
   "cell_type": "code",
   "execution_count": 115,
   "metadata": {},
   "outputs": [
    {
     "name": "stdout",
     "output_type": "stream",
     "text": [
      "Away wins: 1117\n",
      "Home wins: 1798\n",
      "Draws: 842\n",
      "Home side goal per game: 1.6766036731434655\n",
      "Away side goal per game: 1.2086771360127762\n",
      "0.4785733297844024\n",
      "0.2973116848549375\n",
      "0.2241149853606601\n"
     ]
    },
    {
     "data": {
      "text/plain": [
       "<Figure size 1080x720 with 0 Axes>"
      ]
     },
     "metadata": {},
     "output_type": "display_data"
    },
    {
     "data": {
      "image/png": "[encoded data removed]",
      "text/plain": [
       "<Figure size 432x288 with 1 Axes>"
      ]
     },
     "metadata": {},
     "output_type": "display_data"
    }
   ],
   "source": [
    "#All games including matches that were played in nuetral grounds\n",
    "m_home_wins, m_away_wins, m_draws, m_total_games_played, m_home_score_avg, m_away_score_avg = home_away_draws(major)\n",
    "print(f'Away wins: {m_away_wins}')\n",
    "print(f'Home wins: {m_home_wins}')\n",
    "print(f'Draws: {m_draws}')\n",
    "print(f'Home side goal per game: {m_home_score_avg}')\n",
    "print(f'Away side goal per game: {m_away_score_avg}')\n",
    "\n",
    "m_home_win_percent=m_home_wins/m_total_games_played\n",
    "m_away_win_percent=m_away_wins/m_total_games_played\n",
    "m_draw_percent=m_draws/m_total_games_played\n",
    "\n",
    "print(m_home_win_percent)\n",
    "print(m_away_win_percent)\n",
    "print(m_draw_percent)\n",
    "\n",
    "draw_pie([m_home_win_percent,m_away_win_percent,m_draw_percent])"
   ]
  },
  {
   "cell_type": "code",
   "execution_count": 116,
   "metadata": {},
   "outputs": [
    {
     "name": "stdout",
     "output_type": "stream",
     "text": [
      "Away wins: 174\n",
      "Home wins: 548\n",
      "Draws: 190\n",
      "Home side goal per game: 1.9989035087719298\n",
      "Away side goal per game: 0.9528508771929824\n",
      "0.6008771929824561\n",
      "0.19078947368421054\n",
      "0.20833333333333334\n"
     ]
    },
    {
     "data": {
      "text/plain": [
       "<Figure size 1080x720 with 0 Axes>"
      ]
     },
     "metadata": {},
     "output_type": "display_data"
    },
    {
     "data": {
      "image/png": "[encoded data removed]",
      "text/plain": [
       "<Figure size 432x288 with 1 Axes>"
      ]
     },
     "metadata": {},
     "output_type": "display_data"
    }
   ],
   "source": [
    "#Matches that were played in either home or away grounds (non-neutral games)\n",
    "major_nn = major[major['neutral']==False]\n",
    "nn_m_home_wins, nn_m_away_wins, nn_m_draws, nn_m_total_games_played, nn_m_home_score_avg, nn_m_away_score_avg = home_away_draws(major_nn)\n",
    "\n",
    "print(f'Away wins: {nn_m_away_wins}')\n",
    "print(f'Home wins: {nn_m_home_wins}')\n",
    "print(f'Draws: {nn_m_draws}')\n",
    "print(f'Home side goal per game: {nn_m_home_score_avg}')\n",
    "print(f'Away side goal per game: {nn_m_away_score_avg}')\n",
    "\n",
    "nn_m_home_win_percent=nn_m_home_wins/nn_m_total_games_played\n",
    "nn_m_away_win_percent=nn_m_away_wins/nn_m_total_games_played\n",
    "nn_m_draw_percent=nn_m_draws/nn_m_total_games_played\n",
    "\n",
    "print(nn_m_home_win_percent)\n",
    "print(nn_m_away_win_percent)\n",
    "print(nn_m_draw_percent)\n",
    "\n",
    "draw_pie([nn_m_home_win_percent,nn_m_away_win_percent,nn_m_draw_percent])"
   ]
  },
  {
   "cell_type": "markdown",
   "metadata": {},
   "source": [
    "## Average goal per game "
   ]
  },
  {
   "cell_type": "code",
   "execution_count": 117,
   "metadata": {},
   "outputs": [
    {
     "data": {
      "text/html": [
       "<div>\n",
       "<style scoped>\n",
       "    .dataframe tbody tr th:only-of-type {\n",
       "        vertical-align: middle;\n",
       "    }\n",
       "\n",
       "    .dataframe tbody tr th {\n",
       "        vertical-align: top;\n",
       "    }\n",
       "\n",
       "    .dataframe thead th {\n",
       "        text-align: right;\n",
       "    }\n",
       "</style>\n",
       "<table border=\"1\" class=\"dataframe\">\n",
       "  <thead>\n",
       "    <tr style=\"text-align: right;\">\n",
       "      <th></th>\n",
       "      <th>away_score</th>\n",
       "      <th>home_score</th>\n",
       "      <th>total</th>\n",
       "    </tr>\n",
       "    <tr>\n",
       "      <th>tournament</th>\n",
       "      <th></th>\n",
       "      <th></th>\n",
       "      <th></th>\n",
       "    </tr>\n",
       "  </thead>\n",
       "  <tbody>\n",
       "    <tr>\n",
       "      <th>AFC Asian Cup</th>\n",
       "      <td>429</td>\n",
       "      <td>558</td>\n",
       "      <td>987</td>\n",
       "    </tr>\n",
       "    <tr>\n",
       "      <th>African Cup of Nations</th>\n",
       "      <td>723</td>\n",
       "      <td>948</td>\n",
       "      <td>1671</td>\n",
       "    </tr>\n",
       "    <tr>\n",
       "      <th>CCCF Championship</th>\n",
       "      <td>193</td>\n",
       "      <td>356</td>\n",
       "      <td>549</td>\n",
       "    </tr>\n",
       "    <tr>\n",
       "      <th>Confederations Cup</th>\n",
       "      <td>193</td>\n",
       "      <td>230</td>\n",
       "      <td>423</td>\n",
       "    </tr>\n",
       "    <tr>\n",
       "      <th>Copa América</th>\n",
       "      <td>1052</td>\n",
       "      <td>1554</td>\n",
       "      <td>2606</td>\n",
       "    </tr>\n",
       "    <tr>\n",
       "      <th>FIFA World Cup</th>\n",
       "      <td>1136</td>\n",
       "      <td>1412</td>\n",
       "      <td>2548</td>\n",
       "    </tr>\n",
       "    <tr>\n",
       "      <th>Gold Cup</th>\n",
       "      <td>336</td>\n",
       "      <td>567</td>\n",
       "      <td>903</td>\n",
       "    </tr>\n",
       "    <tr>\n",
       "      <th>NAFU Championship</th>\n",
       "      <td>11</td>\n",
       "      <td>17</td>\n",
       "      <td>28</td>\n",
       "    </tr>\n",
       "    <tr>\n",
       "      <th>Oceania Nations Cup</th>\n",
       "      <td>156</td>\n",
       "      <td>282</td>\n",
       "      <td>438</td>\n",
       "    </tr>\n",
       "    <tr>\n",
       "      <th>UEFA Euro</th>\n",
       "      <td>312</td>\n",
       "      <td>375</td>\n",
       "      <td>687</td>\n",
       "    </tr>\n",
       "  </tbody>\n",
       "</table>\n",
       "</div>"
      ],
      "text/plain": [
       "                        away_score  home_score  total\n",
       "tournament                                           \n",
       "AFC Asian Cup                  429         558    987\n",
       "African Cup of Nations         723         948   1671\n",
       "CCCF Championship              193         356    549\n",
       "Confederations Cup             193         230    423\n",
       "Copa América                  1052        1554   2606\n",
       "FIFA World Cup                1136        1412   2548\n",
       "Gold Cup                       336         567    903\n",
       "NAFU Championship               11          17     28\n",
       "Oceania Nations Cup            156         282    438\n",
       "UEFA Euro                      312         375    687"
      ]
     },
     "execution_count": 117,
     "metadata": {},
     "output_type": "execute_result"
    }
   ],
   "source": [
    "avg_goal=major.pivot_table(['home_score','away_score'],columns='tournament',aggfunc=np.sum)\n",
    "avg_goal.loc['total']=avg_goal.sum(axis=0)\n",
    "avg_goal=avg_goal.T\n",
    "avg_goal"
   ]
  },
  {
   "cell_type": "code",
   "execution_count": 118,
   "metadata": {},
   "outputs": [
    {
     "data": {
      "text/html": [
       "<div>\n",
       "<style scoped>\n",
       "    .dataframe tbody tr th:only-of-type {\n",
       "        vertical-align: middle;\n",
       "    }\n",
       "\n",
       "    .dataframe tbody tr th {\n",
       "        vertical-align: top;\n",
       "    }\n",
       "\n",
       "    .dataframe thead th {\n",
       "        text-align: right;\n",
       "    }\n",
       "</style>\n",
       "<table border=\"1\" class=\"dataframe\">\n",
       "  <thead>\n",
       "    <tr style=\"text-align: right;\">\n",
       "      <th></th>\n",
       "      <th>away_score</th>\n",
       "      <th>home_score</th>\n",
       "      <th>total</th>\n",
       "      <th>count</th>\n",
       "      <th>avg</th>\n",
       "    </tr>\n",
       "    <tr>\n",
       "      <th>tournament</th>\n",
       "      <th></th>\n",
       "      <th></th>\n",
       "      <th></th>\n",
       "      <th></th>\n",
       "      <th></th>\n",
       "    </tr>\n",
       "  </thead>\n",
       "  <tbody>\n",
       "    <tr>\n",
       "      <th>AFC Asian Cup</th>\n",
       "      <td>429</td>\n",
       "      <td>558</td>\n",
       "      <td>987</td>\n",
       "      <td>370</td>\n",
       "      <td>2.667568</td>\n",
       "    </tr>\n",
       "    <tr>\n",
       "      <th>African Cup of Nations</th>\n",
       "      <td>723</td>\n",
       "      <td>948</td>\n",
       "      <td>1671</td>\n",
       "      <td>690</td>\n",
       "      <td>2.421739</td>\n",
       "    </tr>\n",
       "    <tr>\n",
       "      <th>CCCF Championship</th>\n",
       "      <td>193</td>\n",
       "      <td>356</td>\n",
       "      <td>549</td>\n",
       "      <td>123</td>\n",
       "      <td>4.463415</td>\n",
       "    </tr>\n",
       "    <tr>\n",
       "      <th>Confederations Cup</th>\n",
       "      <td>193</td>\n",
       "      <td>230</td>\n",
       "      <td>423</td>\n",
       "      <td>140</td>\n",
       "      <td>3.021429</td>\n",
       "    </tr>\n",
       "    <tr>\n",
       "      <th>Copa América</th>\n",
       "      <td>1052</td>\n",
       "      <td>1554</td>\n",
       "      <td>2606</td>\n",
       "      <td>813</td>\n",
       "      <td>3.205412</td>\n",
       "    </tr>\n",
       "    <tr>\n",
       "      <th>FIFA World Cup</th>\n",
       "      <td>1136</td>\n",
       "      <td>1412</td>\n",
       "      <td>2548</td>\n",
       "      <td>900</td>\n",
       "      <td>2.831111</td>\n",
       "    </tr>\n",
       "    <tr>\n",
       "      <th>Gold Cup</th>\n",
       "      <td>336</td>\n",
       "      <td>567</td>\n",
       "      <td>903</td>\n",
       "      <td>327</td>\n",
       "      <td>2.761468</td>\n",
       "    </tr>\n",
       "    <tr>\n",
       "      <th>NAFU Championship</th>\n",
       "      <td>11</td>\n",
       "      <td>17</td>\n",
       "      <td>28</td>\n",
       "      <td>7</td>\n",
       "      <td>4.000000</td>\n",
       "    </tr>\n",
       "    <tr>\n",
       "      <th>Oceania Nations Cup</th>\n",
       "      <td>156</td>\n",
       "      <td>282</td>\n",
       "      <td>438</td>\n",
       "      <td>101</td>\n",
       "      <td>4.336634</td>\n",
       "    </tr>\n",
       "    <tr>\n",
       "      <th>UEFA Euro</th>\n",
       "      <td>312</td>\n",
       "      <td>375</td>\n",
       "      <td>687</td>\n",
       "      <td>286</td>\n",
       "      <td>2.402098</td>\n",
       "    </tr>\n",
       "  </tbody>\n",
       "</table>\n",
       "</div>"
      ],
      "text/plain": [
       "                        away_score  home_score  total  count       avg\n",
       "tournament                                                            \n",
       "AFC Asian Cup                  429         558    987    370  2.667568\n",
       "African Cup of Nations         723         948   1671    690  2.421739\n",
       "CCCF Championship              193         356    549    123  4.463415\n",
       "Confederations Cup             193         230    423    140  3.021429\n",
       "Copa América                  1052        1554   2606    813  3.205412\n",
       "FIFA World Cup                1136        1412   2548    900  2.831111\n",
       "Gold Cup                       336         567    903    327  2.761468\n",
       "NAFU Championship               11          17     28      7  4.000000\n",
       "Oceania Nations Cup            156         282    438    101  4.336634\n",
       "UEFA Euro                      312         375    687    286  2.402098"
      ]
     },
     "execution_count": 118,
     "metadata": {},
     "output_type": "execute_result"
    }
   ],
   "source": [
    "count=major['tournament'].value_counts()\n",
    "count=count.sort_index()\n",
    "avg_goal['count']=count\n",
    "avg_goal['avg']=avg_goal['total']/avg_goal['count']\n",
    "avg_goal"
   ]
  },
  {
   "cell_type": "code",
   "execution_count": 119,
   "metadata": {
    "scrolled": true
   },
   "outputs": [
    {
     "data": {
      "image/png": "[encoded data removed]",
      "text/plain": [
       "<Figure size 1440x360 with 1 Axes>"
      ]
     },
     "metadata": {},
     "output_type": "display_data"
    }
   ],
   "source": [
    "#Above table visualized\n",
    "plt.figure(figsize=(20,5))\n",
    "sns.set_style(\"darkgrid\")\n",
    "sns.barplot(x=avg_goal.index,y=avg_goal['avg'],color='#d597ce');"
   ]
  },
  {
   "cell_type": "markdown",
   "metadata": {},
   "source": [
    "## Countries that have hosted the most games"
   ]
  },
  {
   "cell_type": "code",
   "execution_count": 120,
   "metadata": {},
   "outputs": [
    {
     "data": {
      "text/html": [
       "<div>\n",
       "<style scoped>\n",
       "    .dataframe tbody tr th:only-of-type {\n",
       "        vertical-align: middle;\n",
       "    }\n",
       "\n",
       "    .dataframe tbody tr th {\n",
       "        vertical-align: top;\n",
       "    }\n",
       "\n",
       "    .dataframe thead th {\n",
       "        text-align: right;\n",
       "    }\n",
       "</style>\n",
       "<table border=\"1\" class=\"dataframe\">\n",
       "  <thead>\n",
       "    <tr style=\"text-align: right;\">\n",
       "      <th></th>\n",
       "      <th>counts</th>\n",
       "      <th>country</th>\n",
       "    </tr>\n",
       "  </thead>\n",
       "  <tbody>\n",
       "    <tr>\n",
       "      <th>0</th>\n",
       "      <td>393</td>\n",
       "      <td>United States</td>\n",
       "    </tr>\n",
       "    <tr>\n",
       "      <th>1</th>\n",
       "      <td>211</td>\n",
       "      <td>Brazil</td>\n",
       "    </tr>\n",
       "    <tr>\n",
       "      <th>2</th>\n",
       "      <td>168</td>\n",
       "      <td>France</td>\n",
       "    </tr>\n",
       "    <tr>\n",
       "      <th>3</th>\n",
       "      <td>160</td>\n",
       "      <td>Argentina</td>\n",
       "    </tr>\n",
       "    <tr>\n",
       "      <th>4</th>\n",
       "      <td>155</td>\n",
       "      <td>Chile</td>\n",
       "    </tr>\n",
       "    <tr>\n",
       "      <th>...</th>\n",
       "      <td>...</td>\n",
       "      <td>...</td>\n",
       "    </tr>\n",
       "    <tr>\n",
       "      <th>72</th>\n",
       "      <td>6</td>\n",
       "      <td>Panama</td>\n",
       "    </tr>\n",
       "    <tr>\n",
       "      <th>73</th>\n",
       "      <td>4</td>\n",
       "      <td>Yugoslavia</td>\n",
       "    </tr>\n",
       "    <tr>\n",
       "      <th>74</th>\n",
       "      <td>4</td>\n",
       "      <td>Jamaica</td>\n",
       "    </tr>\n",
       "    <tr>\n",
       "      <th>75</th>\n",
       "      <td>3</td>\n",
       "      <td>Canada</td>\n",
       "    </tr>\n",
       "    <tr>\n",
       "      <th>76</th>\n",
       "      <td>3</td>\n",
       "      <td>United Arab Republic</td>\n",
       "    </tr>\n",
       "  </tbody>\n",
       "</table>\n",
       "<p>77 rows × 2 columns</p>\n",
       "</div>"
      ],
      "text/plain": [
       "    counts               country\n",
       "0      393         United States\n",
       "1      211                Brazil\n",
       "2      168                France\n",
       "3      160             Argentina\n",
       "4      155                 Chile\n",
       "..     ...                   ...\n",
       "72       6                Panama\n",
       "73       4            Yugoslavia\n",
       "74       4               Jamaica\n",
       "75       3                Canada\n",
       "76       3  United Arab Republic\n",
       "\n",
       "[77 rows x 2 columns]"
      ]
     },
     "execution_count": 120,
     "metadata": {},
     "output_type": "execute_result"
    }
   ],
   "source": [
    "matches_hosted=pd.DataFrame()\n",
    "matches_hosted['counts']=major['country'].value_counts()\n",
    "matches_hosted['country']=major['country'].value_counts().index\n",
    "matches_hosted=matches_hosted.reset_index()\n",
    "matches_hosted.drop(columns=['index'],inplace=True)\n",
    "matches_hosted"
   ]
  },
  {
   "cell_type": "code",
   "execution_count": 121,
   "metadata": {},
   "outputs": [
    {
     "name": "stderr",
     "output_type": "stream",
     "text": [
      "/home/izanami/anaconda3/lib/python3.7/site-packages/ipykernel_launcher.py:9: SettingWithCopyWarning:\n",
      "\n",
      "\n",
      "A value is trying to be set on a copy of a slice from a DataFrame\n",
      "\n",
      "See the caveats in the documentation: http://pandas.pydata.org/pandas-docs/stable/user_guide/indexing.html#returning-a-view-versus-a-copy\n",
      "\n"
     ]
    },
    {
     "data": {
      "text/html": [
       "<div>\n",
       "<style scoped>\n",
       "    .dataframe tbody tr th:only-of-type {\n",
       "        vertical-align: middle;\n",
       "    }\n",
       "\n",
       "    .dataframe tbody tr th {\n",
       "        vertical-align: top;\n",
       "    }\n",
       "\n",
       "    .dataframe thead th {\n",
       "        text-align: right;\n",
       "    }\n",
       "</style>\n",
       "<table border=\"1\" class=\"dataframe\">\n",
       "  <thead>\n",
       "    <tr style=\"text-align: right;\">\n",
       "      <th></th>\n",
       "      <th>counts</th>\n",
       "      <th>country</th>\n",
       "      <th>codes</th>\n",
       "    </tr>\n",
       "  </thead>\n",
       "  <tbody>\n",
       "    <tr>\n",
       "      <th>0</th>\n",
       "      <td>393</td>\n",
       "      <td>United States</td>\n",
       "      <td>USA</td>\n",
       "    </tr>\n",
       "    <tr>\n",
       "      <th>1</th>\n",
       "      <td>211</td>\n",
       "      <td>Brazil</td>\n",
       "      <td>BRA</td>\n",
       "    </tr>\n",
       "    <tr>\n",
       "      <th>2</th>\n",
       "      <td>168</td>\n",
       "      <td>France</td>\n",
       "      <td>FRA</td>\n",
       "    </tr>\n",
       "    <tr>\n",
       "      <th>3</th>\n",
       "      <td>160</td>\n",
       "      <td>Argentina</td>\n",
       "      <td>ARG</td>\n",
       "    </tr>\n",
       "    <tr>\n",
       "      <th>4</th>\n",
       "      <td>155</td>\n",
       "      <td>Chile</td>\n",
       "      <td>CHL</td>\n",
       "    </tr>\n",
       "    <tr>\n",
       "      <th>...</th>\n",
       "      <td>...</td>\n",
       "      <td>...</td>\n",
       "      <td>...</td>\n",
       "    </tr>\n",
       "    <tr>\n",
       "      <th>72</th>\n",
       "      <td>6</td>\n",
       "      <td>Panama</td>\n",
       "      <td>PAN</td>\n",
       "    </tr>\n",
       "    <tr>\n",
       "      <th>73</th>\n",
       "      <td>4</td>\n",
       "      <td>Serbia</td>\n",
       "      <td>SRB</td>\n",
       "    </tr>\n",
       "    <tr>\n",
       "      <th>74</th>\n",
       "      <td>4</td>\n",
       "      <td>Jamaica</td>\n",
       "      <td>JAM</td>\n",
       "    </tr>\n",
       "    <tr>\n",
       "      <th>75</th>\n",
       "      <td>3</td>\n",
       "      <td>Canada</td>\n",
       "      <td>CAN</td>\n",
       "    </tr>\n",
       "    <tr>\n",
       "      <th>76</th>\n",
       "      <td>3</td>\n",
       "      <td>Egypt</td>\n",
       "      <td>EGY</td>\n",
       "    </tr>\n",
       "  </tbody>\n",
       "</table>\n",
       "<p>77 rows × 3 columns</p>\n",
       "</div>"
      ],
      "text/plain": [
       "    counts        country codes\n",
       "0      393  United States   USA\n",
       "1      211         Brazil   BRA\n",
       "2      168         France   FRA\n",
       "3      160      Argentina   ARG\n",
       "4      155          Chile   CHL\n",
       "..     ...            ...   ...\n",
       "72       6         Panama   PAN\n",
       "73       4         Serbia   SRB\n",
       "74       4        Jamaica   JAM\n",
       "75       3         Canada   CAN\n",
       "76       3          Egypt   EGY\n",
       "\n",
       "[77 rows x 3 columns]"
      ]
     },
     "execution_count": 121,
     "metadata": {},
     "output_type": "execute_result"
    }
   ],
   "source": [
    "#Conversion of counrtry names to ISO-3661-alpha-3 format for plotly\n",
    "import pycountry\n",
    "\n",
    "input_countries = matches_hosted['country']\n",
    "change={\"Netherlands Antilles\":\"Aruba\",\"United Arab Republic\":\"Egypt\",\"South Korea\":\"Korea, Republic of\",\"Bolivia\":\"Bolivia, Plurinational State of\",\"England\":\"United Kingdom\",\"Iran\":\"Iran, Islamic Republic of\",\"Venezuela\":\"Venezuela, Bolivarian Republic of\",\"Yugoslavia\":\"Serbia\",\"Ivory Coast\":\"Côte d'Ivoire\",\"China PR\":\"Taiwan, Province of China\",\"Vietnam\":\"Viet Nam\",\"Russia\":\"Russian Federation\"}\n",
    "\n",
    "for i,country in enumerate(input_countries):\n",
    "    if country in change:\n",
    "        input_countries[i]=change[country]\n",
    "\n",
    "countries = {}\n",
    "for country in pycountry.countries:\n",
    "    countries[country.name] = country.alpha_3\n",
    "\n",
    "codes = [countries.get(country, 'Unknown code') for country in input_countries]\n",
    "matches_hosted['codes']=codes\n",
    "matches_hosted"
   ]
  },
  {
   "cell_type": "code",
   "execution_count": 122,
   "metadata": {},
   "outputs": [
    {
     "data": {
      "application/vnd.plotly.v1+json": {
       "config": {
        "plotlyServerURL": "https://plot.ly"
       },
       "data": [
        {
         "autocolorscale": false,
         "colorbar": {
          "title": {
           "text": "Games hosted"
          }
         },
         "colorscale": [
          [
           0,
           "rgb(255,245,240)"
          ],
          [
           0.125,
           "rgb(254,224,210)"
          ],
          [
           0.25,
           "rgb(252,187,161)"
          ],
          [
           0.375,
           "rgb(252,146,114)"
          ],
          [
           0.5,
           "rgb(251,106,74)"
          ],
          [
           0.625,
           "rgb(239,59,44)"
          ],
          [
           0.75,
           "rgb(203,24,29)"
          ],
          [
           0.875,
           "rgb(165,15,21)"
          ],
          [
           1,
           "rgb(103,0,13)"
          ]
         ],
         "locations": [
          "USA",
          "BRA",
          "FRA",
          "ARG",
          "CHL",
          "ZAF",
          "DEU",
          "URY",
          "EGY",
          "MEX",
          "PER",
          "ITA",
          "RUS",
          "ARE",
          "GHA",
          "ECU",
          "GBR",
          "TUN",
          "ESP",
          "QAT",
          "JPN",
          "CRI",
          "BOL",
          "SWE",
          "GAB",
          "GNQ",
          "KOR",
          "AUS",
          "CHE",
          "ETH",
          "COL",
          "PRY",
          "VEN",
          "MLI",
          "BFA",
          "TWN",
          "NGA",
          "PRT",
          "NZL",
          "AGO",
          "SAU",
          "LBN",
          "KWT",
          "SGP",
          "THA",
          "IRN",
          "SEN",
          "BEL",
          "GTM",
          "SLB",
          "SDN",
          "HND",
          "CIV",
          "DZA",
          "LBY",
          "NLD",
          "UKR",
          "MAR",
          "AUT",
          "CMR",
          "POL",
          "PNG",
          "NCL",
          "PYF",
          "SLV",
          "IDN",
          "MYS",
          "VNM",
          "CUB",
          "ABW",
          "ISR",
          "HKG",
          "PAN",
          "SRB",
          "JAM",
          "CAN",
          "EGY"
         ],
         "marker": {
          "line": {
           "color": "darkgray",
           "width": 0.5
          }
         },
         "reversescale": false,
         "text": "red",
         "type": "choropleth",
         "z": [
          393,
          211,
          168,
          160,
          155,
          141,
          133,
          120,
          117,
          115,
          99,
          88,
          80,
          77,
          72,
          71,
          63,
          60,
          56,
          56,
          56,
          56,
          53,
          50,
          48,
          48,
          46,
          45,
          41,
          38,
          35,
          34,
          33,
          32,
          32,
          32,
          32,
          31,
          29,
          29,
          28,
          26,
          24,
          24,
          20,
          20,
          20,
          19,
          19,
          18,
          18,
          18,
          16,
          16,
          16,
          16,
          16,
          16,
          16,
          16,
          15,
          15,
          14,
          12,
          12,
          9,
          8,
          8,
          8,
          7,
          6,
          6,
          6,
          4,
          4,
          3,
          3
         ]
        }
       ],
       "layout": {
        "annotations": [
         {
          "showarrow": false,
          "x": 0.55,
          "xref": "paper",
          "y": 0.1,
          "yref": "paper"
         }
        ],
        "geo": {
         "projection": {
          "type": "equirectangular"
         },
         "showcoastlines": false,
         "showframe": false
        },
        "template": {
         "data": {
          "bar": [
           {
            "error_x": {
             "color": "#2a3f5f"
            },
            "error_y": {
             "color": "#2a3f5f"
            },
            "marker": {
             "line": {
              "color": "#E5ECF6",
              "width": 0.5
             }
            },
            "type": "bar"
           }
          ],
          "barpolar": [
           {
            "marker": {
             "line": {
              "color": "#E5ECF6",
              "width": 0.5
             }
            },
            "type": "barpolar"
           }
          ],
          "carpet": [
           {
            "aaxis": {
             "endlinecolor": "#2a3f5f",
             "gridcolor": "white",
             "linecolor": "white",
             "minorgridcolor": "white",
             "startlinecolor": "#2a3f5f"
            },
            "baxis": {
             "endlinecolor": "#2a3f5f",
             "gridcolor": "white",
             "linecolor": "white",
             "minorgridcolor": "white",
             "startlinecolor": "#2a3f5f"
            },
            "type": "carpet"
           }
          ],
          "choropleth": [
           {
            "colorbar": {
             "outlinewidth": 0,
             "ticks": ""
            },
            "type": "choropleth"
           }
          ],
          "contour": [
           {
            "colorbar": {
             "outlinewidth": 0,
             "ticks": ""
            },
            "colorscale": [
             [
              0,
              "#0d0887"
             ],
             [
              0.1111111111111111,
              "#46039f"
             ],
             [
              0.2222222222222222,
              "#7201a8"
             ],
             [
              0.3333333333333333,
              "#9c179e"
             ],
             [
              0.4444444444444444,
              "#bd3786"
             ],
             [
              0.5555555555555556,
              "#d8576b"
             ],
             [
              0.6666666666666666,
              "#ed7953"
             ],
             [
              0.7777777777777778,
              "#fb9f3a"
             ],
             [
              0.8888888888888888,
              "#fdca26"
             ],
             [
              1,
              "#f0f921"
             ]
            ],
            "type": "contour"
           }
          ],
          "contourcarpet": [
           {
            "colorbar": {
             "outlinewidth": 0,
             "ticks": ""
            },
            "type": "contourcarpet"
           }
          ],
          "heatmap": [
           {
            "colorbar": {
             "outlinewidth": 0,
             "ticks": ""
            },
            "colorscale": [
             [
              0,
              "#0d0887"
             ],
             [
              0.1111111111111111,
              "#46039f"
             ],
             [
              0.2222222222222222,
              "#7201a8"
             ],
             [
              0.3333333333333333,
              "#9c179e"
             ],
             [
              0.4444444444444444,
              "#bd3786"
             ],
             [
              0.5555555555555556,
              "#d8576b"
             ],
             [
              0.6666666666666666,
              "#ed7953"
             ],
             [
              0.7777777777777778,
              "#fb9f3a"
             ],
             [
              0.8888888888888888,
              "#fdca26"
             ],
             [
              1,
              "#f0f921"
             ]
            ],
            "type": "heatmap"
           }
          ],
          "heatmapgl": [
           {
            "colorbar": {
             "outlinewidth": 0,
             "ticks": ""
            },
            "colorscale": [
             [
              0,
              "#0d0887"
             ],
             [
              0.1111111111111111,
              "#46039f"
             ],
             [
              0.2222222222222222,
              "#7201a8"
             ],
             [
              0.3333333333333333,
              "#9c179e"
             ],
             [
              0.4444444444444444,
              "#bd3786"
             ],
             [
              0.5555555555555556,
              "#d8576b"
             ],
             [
              0.6666666666666666,
              "#ed7953"
             ],
             [
              0.7777777777777778,
              "#fb9f3a"
             ],
             [
              0.8888888888888888,
              "#fdca26"
             ],
             [
              1,
              "#f0f921"
             ]
            ],
            "type": "heatmapgl"
           }
          ],
          "histogram": [
           {
            "marker": {
             "colorbar": {
              "outlinewidth": 0,
              "ticks": ""
             }
            },
            "type": "histogram"
           }
          ],
          "histogram2d": [
           {
            "colorbar": {
             "outlinewidth": 0,
             "ticks": ""
            },
            "colorscale": [
             [
              0,
              "#0d0887"
             ],
             [
              0.1111111111111111,
              "#46039f"
             ],
             [
              0.2222222222222222,
              "#7201a8"
             ],
             [
              0.3333333333333333,
              "#9c179e"
             ],
             [
              0.4444444444444444,
              "#bd3786"
             ],
             [
              0.5555555555555556,
              "#d8576b"
             ],
             [
              0.6666666666666666,
              "#ed7953"
             ],
             [
              0.7777777777777778,
              "#fb9f3a"
             ],
             [
              0.8888888888888888,
              "#fdca26"
             ],
             [
              1,
              "#f0f921"
             ]
            ],
            "type": "histogram2d"
           }
          ],
          "histogram2dcontour": [
           {
            "colorbar": {
             "outlinewidth": 0,
             "ticks": ""
            },
            "colorscale": [
             [
              0,
              "#0d0887"
             ],
             [
              0.1111111111111111,
              "#46039f"
             ],
             [
              0.2222222222222222,
              "#7201a8"
             ],
             [
              0.3333333333333333,
              "#9c179e"
             ],
             [
              0.4444444444444444,
              "#bd3786"
             ],
             [
              0.5555555555555556,
              "#d8576b"
             ],
             [
              0.6666666666666666,
              "#ed7953"
             ],
             [
              0.7777777777777778,
              "#fb9f3a"
             ],
             [
              0.8888888888888888,
              "#fdca26"
             ],
             [
              1,
              "#f0f921"
             ]
            ],
            "type": "histogram2dcontour"
           }
          ],
          "mesh3d": [
           {
            "colorbar": {
             "outlinewidth": 0,
             "ticks": ""
            },
            "type": "mesh3d"
           }
          ],
          "parcoords": [
           {
            "line": {
             "colorbar": {
              "outlinewidth": 0,
              "ticks": ""
             }
            },
            "type": "parcoords"
           }
          ],
          "scatter": [
           {
            "marker": {
             "colorbar": {
              "outlinewidth": 0,
              "ticks": ""
             }
            },
            "type": "scatter"
           }
          ],
          "scatter3d": [
           {
            "line": {
             "colorbar": {
              "outlinewidth": 0,
              "ticks": ""
             }
            },
            "marker": {
             "colorbar": {
              "outlinewidth": 0,
              "ticks": ""
             }
            },
            "type": "scatter3d"
           }
          ],
          "scattercarpet": [
           {
            "marker": {
             "colorbar": {
              "outlinewidth": 0,
              "ticks": ""
             }
            },
            "type": "scattercarpet"
           }
          ],
          "scattergeo": [
           {
            "marker": {
             "colorbar": {
              "outlinewidth": 0,
              "ticks": ""
             }
            },
            "type": "scattergeo"
           }
          ],
          "scattergl": [
           {
            "marker": {
             "colorbar": {
              "outlinewidth": 0,
              "ticks": ""
             }
            },
            "type": "scattergl"
           }
          ],
          "scattermapbox": [
           {
            "marker": {
             "colorbar": {
              "outlinewidth": 0,
              "ticks": ""
             }
            },
            "type": "scattermapbox"
           }
          ],
          "scatterpolar": [
           {
            "marker": {
             "colorbar": {
              "outlinewidth": 0,
              "ticks": ""
             }
            },
            "type": "scatterpolar"
           }
          ],
          "scatterpolargl": [
           {
            "marker": {
             "colorbar": {
              "outlinewidth": 0,
              "ticks": ""
             }
            },
            "type": "scatterpolargl"
           }
          ],
          "scatterternary": [
           {
            "marker": {
             "colorbar": {
              "outlinewidth": 0,
              "ticks": ""
             }
            },
            "type": "scatterternary"
           }
          ],
          "surface": [
           {
            "colorbar": {
             "outlinewidth": 0,
             "ticks": ""
            },
            "colorscale": [
             [
              0,
              "#0d0887"
             ],
             [
              0.1111111111111111,
              "#46039f"
             ],
             [
              0.2222222222222222,
              "#7201a8"
             ],
             [
              0.3333333333333333,
              "#9c179e"
             ],
             [
              0.4444444444444444,
              "#bd3786"
             ],
             [
              0.5555555555555556,
              "#d8576b"
             ],
             [
              0.6666666666666666,
              "#ed7953"
             ],
             [
              0.7777777777777778,
              "#fb9f3a"
             ],
             [
              0.8888888888888888,
              "#fdca26"
             ],
             [
              1,
              "#f0f921"
             ]
            ],
            "type": "surface"
           }
          ],
          "table": [
           {
            "cells": {
             "fill": {
              "color": "#EBF0F8"
             },
             "line": {
              "color": "white"
             }
            },
            "header": {
             "fill": {
              "color": "#C8D4E3"
             },
             "line": {
              "color": "white"
             }
            },
            "type": "table"
           }
          ]
         },
         "layout": {
          "annotationdefaults": {
           "arrowcolor": "#2a3f5f",
           "arrowhead": 0,
           "arrowwidth": 1
          },
          "colorscale": {
           "diverging": [
            [
             0,
             "#8e0152"
            ],
            [
             0.1,
             "#c51b7d"
            ],
            [
             0.2,
             "#de77ae"
            ],
            [
             0.3,
             "#f1b6da"
            ],
            [
             0.4,
             "#fde0ef"
            ],
            [
             0.5,
             "#f7f7f7"
            ],
            [
             0.6,
             "#e6f5d0"
            ],
            [
             0.7,
             "#b8e186"
            ],
            [
             0.8,
             "#7fbc41"
            ],
            [
             0.9,
             "#4d9221"
            ],
            [
             1,
             "#276419"
            ]
           ],
           "sequential": [
            [
             0,
             "#0d0887"
            ],
            [
             0.1111111111111111,
             "#46039f"
            ],
            [
             0.2222222222222222,
             "#7201a8"
            ],
            [
             0.3333333333333333,
             "#9c179e"
            ],
            [
             0.4444444444444444,
             "#bd3786"
            ],
            [
             0.5555555555555556,
             "#d8576b"
            ],
            [
             0.6666666666666666,
             "#ed7953"
            ],
            [
             0.7777777777777778,
             "#fb9f3a"
            ],
            [
             0.8888888888888888,
             "#fdca26"
            ],
            [
             1,
             "#f0f921"
            ]
           ],
           "sequentialminus": [
            [
             0,
             "#0d0887"
            ],
            [
             0.1111111111111111,
             "#46039f"
            ],
            [
             0.2222222222222222,
             "#7201a8"
            ],
            [
             0.3333333333333333,
             "#9c179e"
            ],
            [
             0.4444444444444444,
             "#bd3786"
            ],
            [
             0.5555555555555556,
             "#d8576b"
            ],
            [
             0.6666666666666666,
             "#ed7953"
            ],
            [
             0.7777777777777778,
             "#fb9f3a"
            ],
            [
             0.8888888888888888,
             "#fdca26"
            ],
            [
             1,
             "#f0f921"
            ]
           ]
          },
          "colorway": [
           "#636efa",
           "#EF553B",
           "#00cc96",
           "#ab63fa",
           "#FFA15A",
           "#19d3f3",
           "#FF6692",
           "#B6E880",
           "#FF97FF",
           "#FECB52"
          ],
          "font": {
           "color": "#2a3f5f"
          },
          "geo": {
           "bgcolor": "white",
           "lakecolor": "white",
           "landcolor": "#E5ECF6",
           "showlakes": true,
           "showland": true,
           "subunitcolor": "white"
          },
          "hoverlabel": {
           "align": "left"
          },
          "hovermode": "closest",
          "mapbox": {
           "style": "light"
          },
          "paper_bgcolor": "white",
          "plot_bgcolor": "#E5ECF6",
          "polar": {
           "angularaxis": {
            "gridcolor": "white",
            "linecolor": "white",
            "ticks": ""
           },
           "bgcolor": "#E5ECF6",
           "radialaxis": {
            "gridcolor": "white",
            "linecolor": "white",
            "ticks": ""
           }
          },
          "scene": {
           "xaxis": {
            "backgroundcolor": "#E5ECF6",
            "gridcolor": "white",
            "gridwidth": 2,
            "linecolor": "white",
            "showbackground": true,
            "ticks": "",
            "zerolinecolor": "white"
           },
           "yaxis": {
            "backgroundcolor": "#E5ECF6",
            "gridcolor": "white",
            "gridwidth": 2,
            "linecolor": "white",
            "showbackground": true,
            "ticks": "",
            "zerolinecolor": "white"
           },
           "zaxis": {
            "backgroundcolor": "#E5ECF6",
            "gridcolor": "white",
            "gridwidth": 2,
            "linecolor": "white",
            "showbackground": true,
            "ticks": "",
            "zerolinecolor": "white"
           }
          },
          "shapedefaults": {
           "line": {
            "color": "#2a3f5f"
           }
          },
          "ternary": {
           "aaxis": {
            "gridcolor": "white",
            "linecolor": "white",
            "ticks": ""
           },
           "baxis": {
            "gridcolor": "white",
            "linecolor": "white",
            "ticks": ""
           },
           "bgcolor": "#E5ECF6",
           "caxis": {
            "gridcolor": "white",
            "linecolor": "white",
            "ticks": ""
           }
          },
          "title": {
           "x": 0.05
          },
          "xaxis": {
           "automargin": true,
           "gridcolor": "white",
           "linecolor": "white",
           "ticks": "",
           "zerolinecolor": "white",
           "zerolinewidth": 2
          },
          "yaxis": {
           "automargin": true,
           "gridcolor": "white",
           "linecolor": "white",
           "ticks": "",
           "zerolinecolor": "white",
           "zerolinewidth": 2
          }
         }
        },
        "title": {
         "text": "Most games hosted"
        }
       }
      },
      "text/html": [
       "<div>\n",
       "        \n",
       "        \n",
       "            <div id=\"14d8c054-9255-4a21-9f73-440171231395\" class=\"plotly-graph-div\" style=\"height:525px; width:100%;\"></div>\n",
       "            <script type=\"text/javascript\">\n",
       "                require([\"plotly\"], function(Plotly) {\n",
       "                    window.PLOTLYENV=window.PLOTLYENV || {};\n",
       "                    \n",
       "                if (document.getElementById(\"14d8c054-9255-4a21-9f73-440171231395\")) {\n",
       "                    Plotly.newPlot(\n",
       "                        '14d8c054-9255-4a21-9f73-440171231395',\n",
       "                        [{\"autocolorscale\": false, \"colorbar\": {\"title\": {\"text\": \"Games hosted\"}}, \"colorscale\": [[0.0, \"rgb(255,245,240)\"], [0.125, \"rgb(254,224,210)\"], [0.25, \"rgb(252,187,161)\"], [0.375, \"rgb(252,146,114)\"], [0.5, \"rgb(251,106,74)\"], [0.625, \"rgb(239,59,44)\"], [0.75, \"rgb(203,24,29)\"], [0.875, \"rgb(165,15,21)\"], [1.0, \"rgb(103,0,13)\"]], \"locations\": [\"USA\", \"BRA\", \"FRA\", \"ARG\", \"CHL\", \"ZAF\", \"DEU\", \"URY\", \"EGY\", \"MEX\", \"PER\", \"ITA\", \"RUS\", \"ARE\", \"GHA\", \"ECU\", \"GBR\", \"TUN\", \"ESP\", \"QAT\", \"JPN\", \"CRI\", \"BOL\", \"SWE\", \"GAB\", \"GNQ\", \"KOR\", \"AUS\", \"CHE\", \"ETH\", \"COL\", \"PRY\", \"VEN\", \"MLI\", \"BFA\", \"TWN\", \"NGA\", \"PRT\", \"NZL\", \"AGO\", \"SAU\", \"LBN\", \"KWT\", \"SGP\", \"THA\", \"IRN\", \"SEN\", \"BEL\", \"GTM\", \"SLB\", \"SDN\", \"HND\", \"CIV\", \"DZA\", \"LBY\", \"NLD\", \"UKR\", \"MAR\", \"AUT\", \"CMR\", \"POL\", \"PNG\", \"NCL\", \"PYF\", \"SLV\", \"IDN\", \"MYS\", \"VNM\", \"CUB\", \"ABW\", \"ISR\", \"HKG\", \"PAN\", \"SRB\", \"JAM\", \"CAN\", \"EGY\"], \"marker\": {\"line\": {\"color\": \"darkgray\", \"width\": 0.5}}, \"reversescale\": false, \"text\": \"red\", \"type\": \"choropleth\", \"z\": [393, 211, 168, 160, 155, 141, 133, 120, 117, 115, 99, 88, 80, 77, 72, 71, 63, 60, 56, 56, 56, 56, 53, 50, 48, 48, 46, 45, 41, 38, 35, 34, 33, 32, 32, 32, 32, 31, 29, 29, 28, 26, 24, 24, 20, 20, 20, 19, 19, 18, 18, 18, 16, 16, 16, 16, 16, 16, 16, 16, 15, 15, 14, 12, 12, 9, 8, 8, 8, 7, 6, 6, 6, 4, 4, 3, 3]}],\n",
       "                        {\"annotations\": [{\"showarrow\": false, \"x\": 0.55, \"xref\": \"paper\", \"y\": 0.1, \"yref\": \"paper\"}], \"geo\": {\"projection\": {\"type\": \"equirectangular\"}, \"showcoastlines\": false, \"showframe\": false}, \"template\": {\"data\": {\"bar\": [{\"error_x\": {\"color\": \"#2a3f5f\"}, \"error_y\": {\"color\": \"#2a3f5f\"}, \"marker\": {\"line\": {\"color\": \"#E5ECF6\", \"width\": 0.5}}, \"type\": \"bar\"}], \"barpolar\": [{\"marker\": {\"line\": {\"color\": \"#E5ECF6\", \"width\": 0.5}}, \"type\": \"barpolar\"}], \"carpet\": [{\"aaxis\": {\"endlinecolor\": \"#2a3f5f\", \"gridcolor\": \"white\", \"linecolor\": \"white\", \"minorgridcolor\": \"white\", \"startlinecolor\": \"#2a3f5f\"}, \"baxis\": {\"endlinecolor\": \"#2a3f5f\", \"gridcolor\": \"white\", \"linecolor\": \"white\", \"minorgridcolor\": \"white\", \"startlinecolor\": \"#2a3f5f\"}, \"type\": \"carpet\"}], \"choropleth\": [{\"colorbar\": {\"outlinewidth\": 0, \"ticks\": \"\"}, \"type\": \"choropleth\"}], \"contour\": [{\"colorbar\": {\"outlinewidth\": 0, \"ticks\": \"\"}, \"colorscale\": [[0.0, \"#0d0887\"], [0.1111111111111111, \"#46039f\"], [0.2222222222222222, \"#7201a8\"], [0.3333333333333333, \"#9c179e\"], [0.4444444444444444, \"#bd3786\"], [0.5555555555555556, \"#d8576b\"], [0.6666666666666666, \"#ed7953\"], [0.7777777777777778, \"#fb9f3a\"], [0.8888888888888888, \"#fdca26\"], [1.0, \"#f0f921\"]], \"type\": \"contour\"}], \"contourcarpet\": [{\"colorbar\": {\"outlinewidth\": 0, \"ticks\": \"\"}, \"type\": \"contourcarpet\"}], \"heatmap\": [{\"colorbar\": {\"outlinewidth\": 0, \"ticks\": \"\"}, \"colorscale\": [[0.0, \"#0d0887\"], [0.1111111111111111, \"#46039f\"], [0.2222222222222222, \"#7201a8\"], [0.3333333333333333, \"#9c179e\"], [0.4444444444444444, \"#bd3786\"], [0.5555555555555556, \"#d8576b\"], [0.6666666666666666, \"#ed7953\"], [0.7777777777777778, \"#fb9f3a\"], [0.8888888888888888, \"#fdca26\"], [1.0, \"#f0f921\"]], \"type\": \"heatmap\"}], \"heatmapgl\": [{\"colorbar\": {\"outlinewidth\": 0, \"ticks\": \"\"}, \"colorscale\": [[0.0, \"#0d0887\"], [0.1111111111111111, \"#46039f\"], [0.2222222222222222, \"#7201a8\"], [0.3333333333333333, \"#9c179e\"], [0.4444444444444444, \"#bd3786\"], [0.5555555555555556, \"#d8576b\"], [0.6666666666666666, \"#ed7953\"], [0.7777777777777778, \"#fb9f3a\"], [0.8888888888888888, \"#fdca26\"], [1.0, \"#f0f921\"]], \"type\": \"heatmapgl\"}], \"histogram\": [{\"marker\": {\"colorbar\": {\"outlinewidth\": 0, \"ticks\": \"\"}}, \"type\": \"histogram\"}], \"histogram2d\": [{\"colorbar\": {\"outlinewidth\": 0, \"ticks\": \"\"}, \"colorscale\": [[0.0, \"#0d0887\"], [0.1111111111111111, \"#46039f\"], [0.2222222222222222, \"#7201a8\"], [0.3333333333333333, \"#9c179e\"], [0.4444444444444444, \"#bd3786\"], [0.5555555555555556, \"#d8576b\"], [0.6666666666666666, \"#ed7953\"], [0.7777777777777778, \"#fb9f3a\"], [0.8888888888888888, \"#fdca26\"], [1.0, \"#f0f921\"]], \"type\": \"histogram2d\"}], \"histogram2dcontour\": [{\"colorbar\": {\"outlinewidth\": 0, \"ticks\": \"\"}, \"colorscale\": [[0.0, \"#0d0887\"], [0.1111111111111111, \"#46039f\"], [0.2222222222222222, \"#7201a8\"], [0.3333333333333333, \"#9c179e\"], [0.4444444444444444, \"#bd3786\"], [0.5555555555555556, \"#d8576b\"], [0.6666666666666666, \"#ed7953\"], [0.7777777777777778, \"#fb9f3a\"], [0.8888888888888888, \"#fdca26\"], [1.0, \"#f0f921\"]], \"type\": \"histogram2dcontour\"}], \"mesh3d\": [{\"colorbar\": {\"outlinewidth\": 0, \"ticks\": \"\"}, \"type\": \"mesh3d\"}], \"parcoords\": [{\"line\": {\"colorbar\": {\"outlinewidth\": 0, \"ticks\": \"\"}}, \"type\": \"parcoords\"}], \"scatter\": [{\"marker\": {\"colorbar\": {\"outlinewidth\": 0, \"ticks\": \"\"}}, \"type\": \"scatter\"}], \"scatter3d\": [{\"line\": {\"colorbar\": {\"outlinewidth\": 0, \"ticks\": \"\"}}, \"marker\": {\"colorbar\": {\"outlinewidth\": 0, \"ticks\": \"\"}}, \"type\": \"scatter3d\"}], \"scattercarpet\": [{\"marker\": {\"colorbar\": {\"outlinewidth\": 0, \"ticks\": \"\"}}, \"type\": \"scattercarpet\"}], \"scattergeo\": [{\"marker\": {\"colorbar\": {\"outlinewidth\": 0, \"ticks\": \"\"}}, \"type\": \"scattergeo\"}], \"scattergl\": [{\"marker\": {\"colorbar\": {\"outlinewidth\": 0, \"ticks\": \"\"}}, \"type\": \"scattergl\"}], \"scattermapbox\": [{\"marker\": {\"colorbar\": {\"outlinewidth\": 0, \"ticks\": \"\"}}, \"type\": \"scattermapbox\"}], \"scatterpolar\": [{\"marker\": {\"colorbar\": {\"outlinewidth\": 0, \"ticks\": \"\"}}, \"type\": \"scatterpolar\"}], \"scatterpolargl\": [{\"marker\": {\"colorbar\": {\"outlinewidth\": 0, \"ticks\": \"\"}}, \"type\": \"scatterpolargl\"}], \"scatterternary\": [{\"marker\": {\"colorbar\": {\"outlinewidth\": 0, \"ticks\": \"\"}}, \"type\": \"scatterternary\"}], \"surface\": [{\"colorbar\": {\"outlinewidth\": 0, \"ticks\": \"\"}, \"colorscale\": [[0.0, \"#0d0887\"], [0.1111111111111111, \"#46039f\"], [0.2222222222222222, \"#7201a8\"], [0.3333333333333333, \"#9c179e\"], [0.4444444444444444, \"#bd3786\"], [0.5555555555555556, \"#d8576b\"], [0.6666666666666666, \"#ed7953\"], [0.7777777777777778, \"#fb9f3a\"], [0.8888888888888888, \"#fdca26\"], [1.0, \"#f0f921\"]], \"type\": \"surface\"}], \"table\": [{\"cells\": {\"fill\": {\"color\": \"#EBF0F8\"}, \"line\": {\"color\": \"white\"}}, \"header\": {\"fill\": {\"color\": \"#C8D4E3\"}, \"line\": {\"color\": \"white\"}}, \"type\": \"table\"}]}, \"layout\": {\"annotationdefaults\": {\"arrowcolor\": \"#2a3f5f\", \"arrowhead\": 0, \"arrowwidth\": 1}, \"colorscale\": {\"diverging\": [[0, \"#8e0152\"], [0.1, \"#c51b7d\"], [0.2, \"#de77ae\"], [0.3, \"#f1b6da\"], [0.4, \"#fde0ef\"], [0.5, \"#f7f7f7\"], [0.6, \"#e6f5d0\"], [0.7, \"#b8e186\"], [0.8, \"#7fbc41\"], [0.9, \"#4d9221\"], [1, \"#276419\"]], \"sequential\": [[0.0, \"#0d0887\"], [0.1111111111111111, \"#46039f\"], [0.2222222222222222, \"#7201a8\"], [0.3333333333333333, \"#9c179e\"], [0.4444444444444444, \"#bd3786\"], [0.5555555555555556, \"#d8576b\"], [0.6666666666666666, \"#ed7953\"], [0.7777777777777778, \"#fb9f3a\"], [0.8888888888888888, \"#fdca26\"], [1.0, \"#f0f921\"]], \"sequentialminus\": [[0.0, \"#0d0887\"], [0.1111111111111111, \"#46039f\"], [0.2222222222222222, \"#7201a8\"], [0.3333333333333333, \"#9c179e\"], [0.4444444444444444, \"#bd3786\"], [0.5555555555555556, \"#d8576b\"], [0.6666666666666666, \"#ed7953\"], [0.7777777777777778, \"#fb9f3a\"], [0.8888888888888888, \"#fdca26\"], [1.0, \"#f0f921\"]]}, \"colorway\": [\"#636efa\", \"#EF553B\", \"#00cc96\", \"#ab63fa\", \"#FFA15A\", \"#19d3f3\", \"#FF6692\", \"#B6E880\", \"#FF97FF\", \"#FECB52\"], \"font\": {\"color\": \"#2a3f5f\"}, \"geo\": {\"bgcolor\": \"white\", \"lakecolor\": \"white\", \"landcolor\": \"#E5ECF6\", \"showlakes\": true, \"showland\": true, \"subunitcolor\": \"white\"}, \"hoverlabel\": {\"align\": \"left\"}, \"hovermode\": \"closest\", \"mapbox\": {\"style\": \"light\"}, \"paper_bgcolor\": \"white\", \"plot_bgcolor\": \"#E5ECF6\", \"polar\": {\"angularaxis\": {\"gridcolor\": \"white\", \"linecolor\": \"white\", \"ticks\": \"\"}, \"bgcolor\": \"#E5ECF6\", \"radialaxis\": {\"gridcolor\": \"white\", \"linecolor\": \"white\", \"ticks\": \"\"}}, \"scene\": {\"xaxis\": {\"backgroundcolor\": \"#E5ECF6\", \"gridcolor\": \"white\", \"gridwidth\": 2, \"linecolor\": \"white\", \"showbackground\": true, \"ticks\": \"\", \"zerolinecolor\": \"white\"}, \"yaxis\": {\"backgroundcolor\": \"#E5ECF6\", \"gridcolor\": \"white\", \"gridwidth\": 2, \"linecolor\": \"white\", \"showbackground\": true, \"ticks\": \"\", \"zerolinecolor\": \"white\"}, \"zaxis\": {\"backgroundcolor\": \"#E5ECF6\", \"gridcolor\": \"white\", \"gridwidth\": 2, \"linecolor\": \"white\", \"showbackground\": true, \"ticks\": \"\", \"zerolinecolor\": \"white\"}}, \"shapedefaults\": {\"line\": {\"color\": \"#2a3f5f\"}}, \"ternary\": {\"aaxis\": {\"gridcolor\": \"white\", \"linecolor\": \"white\", \"ticks\": \"\"}, \"baxis\": {\"gridcolor\": \"white\", \"linecolor\": \"white\", \"ticks\": \"\"}, \"bgcolor\": \"#E5ECF6\", \"caxis\": {\"gridcolor\": \"white\", \"linecolor\": \"white\", \"ticks\": \"\"}}, \"title\": {\"x\": 0.05}, \"xaxis\": {\"automargin\": true, \"gridcolor\": \"white\", \"linecolor\": \"white\", \"ticks\": \"\", \"zerolinecolor\": \"white\", \"zerolinewidth\": 2}, \"yaxis\": {\"automargin\": true, \"gridcolor\": \"white\", \"linecolor\": \"white\", \"ticks\": \"\", \"zerolinecolor\": \"white\", \"zerolinewidth\": 2}}}, \"title\": {\"text\": \"Most games hosted\"}},\n",
       "                        {\"responsive\": true}\n",
       "                    ).then(function(){\n",
       "                            \n",
       "var gd = document.getElementById('14d8c054-9255-4a21-9f73-440171231395');\n",
       "var x = new MutationObserver(function (mutations, observer) {{\n",
       "        var display = window.getComputedStyle(gd).display;\n",
       "        if (!display || display === 'none') {{\n",
       "            console.log([gd, 'removed!']);\n",
       "            Plotly.purge(gd);\n",
       "            observer.disconnect();\n",
       "        }}\n",
       "}});\n",
       "\n",
       "// Listen for the removal of the full notebook cells\n",
       "var notebookContainer = gd.closest('#notebook-container');\n",
       "if (notebookContainer) {{\n",
       "    x.observe(notebookContainer, {childList: true});\n",
       "}}\n",
       "\n",
       "// Listen for the clearing of the current output cell\n",
       "var outputEl = gd.closest('.output');\n",
       "if (outputEl) {{\n",
       "    x.observe(outputEl, {childList: true});\n",
       "}}\n",
       "\n",
       "                        })\n",
       "                };\n",
       "                });\n",
       "            </script>\n",
       "        </div>"
      ]
     },
     "metadata": {},
     "output_type": "display_data"
    },
    {
     "data": {
      "text/plain": [
       "<Figure size 1440x1440 with 0 Axes>"
      ]
     },
     "metadata": {},
     "output_type": "display_data"
    }
   ],
   "source": [
    "#Cholorpleth of countries based on number of matches hosted\n",
    "import plotly.graph_objects as go\n",
    "\n",
    "plt.figure(figsize=(20,20))\n",
    "fig = go.Figure(data=go.Choropleth(\n",
    "    locations = matches_hosted['codes'],\n",
    "    z = matches_hosted['counts'],\n",
    "    text = \"red\",\n",
    "    colorscale = 'reds',\n",
    "    autocolorscale=False,\n",
    "    reversescale=False,\n",
    "    marker_line_color='darkgray',\n",
    "    marker_line_width=0.5,\n",
    "    colorbar_title = 'Games hosted',\n",
    "))\n",
    "\n",
    "fig.update_layout(\n",
    "    title_text='Most games hosted',\n",
    "    geo=dict(\n",
    "        showframe=False,\n",
    "        showcoastlines=False,\n",
    "        projection_type='equirectangular'\n",
    "    ),\n",
    "    annotations = [dict(\n",
    "        x=0.55,\n",
    "        y=0.1,\n",
    "        xref='paper',\n",
    "        yref='paper',\n",
    "        showarrow = False\n",
    "    )]\n",
    ")\n",
    "\n",
    "fig.show()"
   ]
  },
  {
   "cell_type": "code",
   "execution_count": 123,
   "metadata": {},
   "outputs": [
    {
     "data": {
      "image/png": "[encoded data removed]",
      "text/plain": [
       "<Figure size 1440x360 with 1 Axes>"
      ]
     },
     "metadata": {},
     "output_type": "display_data"
    }
   ],
   "source": [
    "#Tournament that has had the most games\n",
    "plt.figure(figsize=(20,5))\n",
    "sns.set_style(\"darkgrid\")\n",
    "sns.barplot(x=avg_goal.index,y=avg_goal['count'],color='#d597ce');\n"
   ]
  },
  {
   "cell_type": "markdown",
   "metadata": {},
   "source": [
    "## Country Wise data"
   ]
  },
  {
   "cell_type": "code",
   "execution_count": 124,
   "metadata": {},
   "outputs": [
    {
     "data": {
      "text/html": [
       "<div>\n",
       "<style scoped>\n",
       "    .dataframe tbody tr th:only-of-type {\n",
       "        vertical-align: middle;\n",
       "    }\n",
       "\n",
       "    .dataframe tbody tr th {\n",
       "        vertical-align: top;\n",
       "    }\n",
       "\n",
       "    .dataframe thead th {\n",
       "        text-align: right;\n",
       "    }\n",
       "</style>\n",
       "<table border=\"1\" class=\"dataframe\">\n",
       "  <thead>\n",
       "    <tr style=\"text-align: right;\">\n",
       "      <th></th>\n",
       "      <th>scored</th>\n",
       "    </tr>\n",
       "  </thead>\n",
       "  <tbody>\n",
       "    <tr>\n",
       "      <th>Albania</th>\n",
       "      <td>1</td>\n",
       "    </tr>\n",
       "    <tr>\n",
       "      <th>Algeria</th>\n",
       "      <td>106</td>\n",
       "    </tr>\n",
       "    <tr>\n",
       "      <th>Angola</th>\n",
       "      <td>31</td>\n",
       "    </tr>\n",
       "    <tr>\n",
       "      <th>Argentina</th>\n",
       "      <td>621</td>\n",
       "    </tr>\n",
       "    <tr>\n",
       "      <th>Aruba</th>\n",
       "      <td>8</td>\n",
       "    </tr>\n",
       "    <tr>\n",
       "      <th>...</th>\n",
       "      <td>...</td>\n",
       "    </tr>\n",
       "    <tr>\n",
       "      <th>Yemen</th>\n",
       "      <td>0</td>\n",
       "    </tr>\n",
       "    <tr>\n",
       "      <th>Yemen DPR</th>\n",
       "      <td>0</td>\n",
       "    </tr>\n",
       "    <tr>\n",
       "      <th>Yugoslavia</th>\n",
       "      <td>69</td>\n",
       "    </tr>\n",
       "    <tr>\n",
       "      <th>Zambia</th>\n",
       "      <td>81</td>\n",
       "    </tr>\n",
       "    <tr>\n",
       "      <th>Zimbabwe</th>\n",
       "      <td>13</td>\n",
       "    </tr>\n",
       "  </tbody>\n",
       "</table>\n",
       "<p>159 rows × 1 columns</p>\n",
       "</div>"
      ],
      "text/plain": [
       "            scored\n",
       "Albania          1\n",
       "Algeria        106\n",
       "Angola          31\n",
       "Argentina      621\n",
       "Aruba            8\n",
       "...            ...\n",
       "Yemen            0\n",
       "Yemen DPR        0\n",
       "Yugoslavia      69\n",
       "Zambia          81\n",
       "Zimbabwe        13\n",
       "\n",
       "[159 rows x 1 columns]"
      ]
     },
     "execution_count": 124,
     "metadata": {},
     "output_type": "execute_result"
    }
   ],
   "source": [
    "#Goals scored\n",
    "home_scored=major.pivot_table(['home_score'],columns=[\"home_team\"],aggfunc=np.sum)\n",
    "home_scored=home_scored.T\n",
    "away_scored=major.pivot_table(['away_score'],columns=[\"away_team\"],aggfunc=np.sum)\n",
    "away_scored=away_scored.T\n",
    "home_scored=home_scored.rename(columns={\"home_score\":\"scored\"})\n",
    "away_scored=away_scored.rename(columns={\"away_score\":\"scored\"})\n",
    "scored_df=home_scored.append(away_scored)\n",
    "scored_df=scored_df.groupby(level=0).sum()\n",
    "scored_df"
   ]
  },
  {
   "cell_type": "code",
   "execution_count": 125,
   "metadata": {},
   "outputs": [
    {
     "data": {
      "text/html": [
       "<div>\n",
       "<style scoped>\n",
       "    .dataframe tbody tr th:only-of-type {\n",
       "        vertical-align: middle;\n",
       "    }\n",
       "\n",
       "    .dataframe tbody tr th {\n",
       "        vertical-align: top;\n",
       "    }\n",
       "\n",
       "    .dataframe thead th {\n",
       "        text-align: right;\n",
       "    }\n",
       "</style>\n",
       "<table border=\"1\" class=\"dataframe\">\n",
       "  <thead>\n",
       "    <tr style=\"text-align: right;\">\n",
       "      <th></th>\n",
       "      <th>conceded</th>\n",
       "    </tr>\n",
       "  </thead>\n",
       "  <tbody>\n",
       "    <tr>\n",
       "      <th>Albania</th>\n",
       "      <td>3</td>\n",
       "    </tr>\n",
       "    <tr>\n",
       "      <th>Algeria</th>\n",
       "      <td>104</td>\n",
       "    </tr>\n",
       "    <tr>\n",
       "      <th>Angola</th>\n",
       "      <td>41</td>\n",
       "    </tr>\n",
       "    <tr>\n",
       "      <th>Argentina</th>\n",
       "      <td>286</td>\n",
       "    </tr>\n",
       "    <tr>\n",
       "      <th>Aruba</th>\n",
       "      <td>9</td>\n",
       "    </tr>\n",
       "    <tr>\n",
       "      <th>...</th>\n",
       "      <td>...</td>\n",
       "    </tr>\n",
       "    <tr>\n",
       "      <th>Yemen</th>\n",
       "      <td>10</td>\n",
       "    </tr>\n",
       "    <tr>\n",
       "      <th>Yemen DPR</th>\n",
       "      <td>9</td>\n",
       "    </tr>\n",
       "    <tr>\n",
       "      <th>Yugoslavia</th>\n",
       "      <td>68</td>\n",
       "    </tr>\n",
       "    <tr>\n",
       "      <th>Zambia</th>\n",
       "      <td>69</td>\n",
       "    </tr>\n",
       "    <tr>\n",
       "      <th>Zimbabwe</th>\n",
       "      <td>27</td>\n",
       "    </tr>\n",
       "  </tbody>\n",
       "</table>\n",
       "<p>159 rows × 1 columns</p>\n",
       "</div>"
      ],
      "text/plain": [
       "            conceded\n",
       "Albania            3\n",
       "Algeria          104\n",
       "Angola            41\n",
       "Argentina        286\n",
       "Aruba              9\n",
       "...              ...\n",
       "Yemen             10\n",
       "Yemen DPR          9\n",
       "Yugoslavia        68\n",
       "Zambia            69\n",
       "Zimbabwe          27\n",
       "\n",
       "[159 rows x 1 columns]"
      ]
     },
     "execution_count": 125,
     "metadata": {},
     "output_type": "execute_result"
    }
   ],
   "source": [
    "#Goals conceded\n",
    "home_conceded=major.pivot_table(['away_score'],columns=[\"home_team\"],aggfunc=np.sum)\n",
    "home_conceded=home_conceded.T\n",
    "away_conceded=major.pivot_table(['home_score'],columns=[\"away_team\"],aggfunc=np.sum)\n",
    "away_conceded=away_conceded.T\n",
    "home_conceded=home_conceded.rename(columns={\"away_score\":\"conceded\"})\n",
    "away_conceded=away_conceded.rename(columns={\"home_score\":\"conceded\"})\n",
    "conceded_df=home_conceded.append(away_conceded)\n",
    "conceded_df=conceded_df.groupby(level=0).sum()\n",
    "conceded_df"
   ]
  },
  {
   "cell_type": "code",
   "execution_count": 126,
   "metadata": {},
   "outputs": [],
   "source": [
    "# Number of games each team has played\n",
    "home_games=major['home_team'].value_counts()\n",
    "away_games=major['away_team'].value_counts()\n",
    "games_count=home_games.append(away_games)\n",
    "games_count=games_count.groupby(level=0).sum()"
   ]
  },
  {
   "cell_type": "code",
   "execution_count": 127,
   "metadata": {},
   "outputs": [
    {
     "data": {
      "text/html": [
       "<div>\n",
       "<style scoped>\n",
       "    .dataframe tbody tr th:only-of-type {\n",
       "        vertical-align: middle;\n",
       "    }\n",
       "\n",
       "    .dataframe tbody tr th {\n",
       "        vertical-align: top;\n",
       "    }\n",
       "\n",
       "    .dataframe thead th {\n",
       "        text-align: right;\n",
       "    }\n",
       "</style>\n",
       "<table border=\"1\" class=\"dataframe\">\n",
       "  <thead>\n",
       "    <tr style=\"text-align: right;\">\n",
       "      <th></th>\n",
       "      <th>scored</th>\n",
       "      <th>conceded</th>\n",
       "      <th>games_played</th>\n",
       "      <th>scored_avg</th>\n",
       "      <th>conceded_avg</th>\n",
       "    </tr>\n",
       "  </thead>\n",
       "  <tbody>\n",
       "    <tr>\n",
       "      <th>Albania</th>\n",
       "      <td>1</td>\n",
       "      <td>3</td>\n",
       "      <td>3</td>\n",
       "      <td>0.333333</td>\n",
       "      <td>1.000000</td>\n",
       "    </tr>\n",
       "    <tr>\n",
       "      <th>Algeria</th>\n",
       "      <td>106</td>\n",
       "      <td>104</td>\n",
       "      <td>87</td>\n",
       "      <td>1.218391</td>\n",
       "      <td>1.195402</td>\n",
       "    </tr>\n",
       "    <tr>\n",
       "      <th>Angola</th>\n",
       "      <td>31</td>\n",
       "      <td>41</td>\n",
       "      <td>29</td>\n",
       "      <td>1.068966</td>\n",
       "      <td>1.413793</td>\n",
       "    </tr>\n",
       "    <tr>\n",
       "      <th>Argentina</th>\n",
       "      <td>621</td>\n",
       "      <td>286</td>\n",
       "      <td>286</td>\n",
       "      <td>2.171329</td>\n",
       "      <td>1.000000</td>\n",
       "    </tr>\n",
       "    <tr>\n",
       "      <th>Aruba</th>\n",
       "      <td>8</td>\n",
       "      <td>9</td>\n",
       "      <td>5</td>\n",
       "      <td>1.600000</td>\n",
       "      <td>1.800000</td>\n",
       "    </tr>\n",
       "    <tr>\n",
       "      <th>...</th>\n",
       "      <td>...</td>\n",
       "      <td>...</td>\n",
       "      <td>...</td>\n",
       "      <td>...</td>\n",
       "      <td>...</td>\n",
       "    </tr>\n",
       "    <tr>\n",
       "      <th>Yemen</th>\n",
       "      <td>0</td>\n",
       "      <td>10</td>\n",
       "      <td>3</td>\n",
       "      <td>0.000000</td>\n",
       "      <td>3.333333</td>\n",
       "    </tr>\n",
       "    <tr>\n",
       "      <th>Yemen DPR</th>\n",
       "      <td>0</td>\n",
       "      <td>9</td>\n",
       "      <td>2</td>\n",
       "      <td>0.000000</td>\n",
       "      <td>4.500000</td>\n",
       "    </tr>\n",
       "    <tr>\n",
       "      <th>Yugoslavia</th>\n",
       "      <td>69</td>\n",
       "      <td>68</td>\n",
       "      <td>43</td>\n",
       "      <td>1.604651</td>\n",
       "      <td>1.581395</td>\n",
       "    </tr>\n",
       "    <tr>\n",
       "      <th>Zambia</th>\n",
       "      <td>81</td>\n",
       "      <td>69</td>\n",
       "      <td>67</td>\n",
       "      <td>1.208955</td>\n",
       "      <td>1.029851</td>\n",
       "    </tr>\n",
       "    <tr>\n",
       "      <th>Zimbabwe</th>\n",
       "      <td>13</td>\n",
       "      <td>27</td>\n",
       "      <td>12</td>\n",
       "      <td>1.083333</td>\n",
       "      <td>2.250000</td>\n",
       "    </tr>\n",
       "  </tbody>\n",
       "</table>\n",
       "<p>159 rows × 5 columns</p>\n",
       "</div>"
      ],
      "text/plain": [
       "            scored  conceded  games_played  scored_avg  conceded_avg\n",
       "Albania          1         3             3    0.333333      1.000000\n",
       "Algeria        106       104            87    1.218391      1.195402\n",
       "Angola          31        41            29    1.068966      1.413793\n",
       "Argentina      621       286           286    2.171329      1.000000\n",
       "Aruba            8         9             5    1.600000      1.800000\n",
       "...            ...       ...           ...         ...           ...\n",
       "Yemen            0        10             3    0.000000      3.333333\n",
       "Yemen DPR        0         9             2    0.000000      4.500000\n",
       "Yugoslavia      69        68            43    1.604651      1.581395\n",
       "Zambia          81        69            67    1.208955      1.029851\n",
       "Zimbabwe        13        27            12    1.083333      2.250000\n",
       "\n",
       "[159 rows x 5 columns]"
      ]
     },
     "execution_count": 127,
     "metadata": {},
     "output_type": "execute_result"
    }
   ],
   "source": [
    "#Making a new table out of the data\n",
    "countries=pd.DataFrame()\n",
    "countries.set_index=scored_df.index\n",
    "countries['scored']=scored_df['scored']\n",
    "countries['conceded']=conceded_df['conceded']\n",
    "countries['games_played']=games_count\n",
    "countries['scored_avg']=countries['scored']/countries['games_played']\n",
    "countries['conceded_avg']=countries['conceded']/countries['games_played']\n",
    "countries"
   ]
  },
  {
   "cell_type": "code",
   "execution_count": 128,
   "metadata": {},
   "outputs": [
    {
     "name": "stderr",
     "output_type": "stream",
     "text": [
      "/home/izanami/anaconda3/lib/python3.7/site-packages/ipykernel_launcher.py:4: SettingWithCopyWarning:\n",
      "\n",
      "\n",
      "A value is trying to be set on a copy of a slice from a DataFrame.\n",
      "Try using .loc[row_indexer,col_indexer] = value instead\n",
      "\n",
      "See the caveats in the documentation: http://pandas.pydata.org/pandas-docs/stable/user_guide/indexing.html#returning-a-view-versus-a-copy\n",
      "\n",
      "/home/izanami/anaconda3/lib/python3.7/site-packages/ipykernel_launcher.py:7: SettingWithCopyWarning:\n",
      "\n",
      "\n",
      "A value is trying to be set on a copy of a slice from a DataFrame.\n",
      "Try using .loc[row_indexer,col_indexer] = value instead\n",
      "\n",
      "See the caveats in the documentation: http://pandas.pydata.org/pandas-docs/stable/user_guide/indexing.html#returning-a-view-versus-a-copy\n",
      "\n"
     ]
    },
    {
     "data": {
      "text/html": [
       "<div>\n",
       "<style scoped>\n",
       "    .dataframe tbody tr th:only-of-type {\n",
       "        vertical-align: middle;\n",
       "    }\n",
       "\n",
       "    .dataframe tbody tr th {\n",
       "        vertical-align: top;\n",
       "    }\n",
       "\n",
       "    .dataframe thead th {\n",
       "        text-align: right;\n",
       "    }\n",
       "</style>\n",
       "<table border=\"1\" class=\"dataframe\">\n",
       "  <thead>\n",
       "    <tr style=\"text-align: right;\">\n",
       "      <th></th>\n",
       "      <th>team</th>\n",
       "      <th>result</th>\n",
       "    </tr>\n",
       "  </thead>\n",
       "  <tbody>\n",
       "    <tr>\n",
       "      <th>428</th>\n",
       "      <td>Chile</td>\n",
       "      <td>lose</td>\n",
       "    </tr>\n",
       "    <tr>\n",
       "      <th>430</th>\n",
       "      <td>Argentina</td>\n",
       "      <td>win</td>\n",
       "    </tr>\n",
       "    <tr>\n",
       "      <th>431</th>\n",
       "      <td>Brazil</td>\n",
       "      <td>draw</td>\n",
       "    </tr>\n",
       "    <tr>\n",
       "      <th>432</th>\n",
       "      <td>Argentina</td>\n",
       "      <td>draw</td>\n",
       "    </tr>\n",
       "    <tr>\n",
       "      <th>434</th>\n",
       "      <td>Brazil</td>\n",
       "      <td>lose</td>\n",
       "    </tr>\n",
       "    <tr>\n",
       "      <th>...</th>\n",
       "      <td>...</td>\n",
       "      <td>...</td>\n",
       "    </tr>\n",
       "    <tr>\n",
       "      <th>40895</th>\n",
       "      <td>Tunisia</td>\n",
       "      <td>win</td>\n",
       "    </tr>\n",
       "    <tr>\n",
       "      <th>40901</th>\n",
       "      <td>Nigeria</td>\n",
       "      <td>lose</td>\n",
       "    </tr>\n",
       "    <tr>\n",
       "      <th>40902</th>\n",
       "      <td>Tunisia</td>\n",
       "      <td>lose</td>\n",
       "    </tr>\n",
       "    <tr>\n",
       "      <th>40909</th>\n",
       "      <td>Nigeria</td>\n",
       "      <td>win</td>\n",
       "    </tr>\n",
       "    <tr>\n",
       "      <th>40915</th>\n",
       "      <td>Algeria</td>\n",
       "      <td>win</td>\n",
       "    </tr>\n",
       "  </tbody>\n",
       "</table>\n",
       "<p>7514 rows × 2 columns</p>\n",
       "</div>"
      ],
      "text/plain": [
       "            team result\n",
       "428        Chile   lose\n",
       "430    Argentina    win\n",
       "431       Brazil   draw\n",
       "432    Argentina   draw\n",
       "434       Brazil   lose\n",
       "...          ...    ...\n",
       "40895    Tunisia    win\n",
       "40901    Nigeria   lose\n",
       "40902    Tunisia   lose\n",
       "40909    Nigeria    win\n",
       "40915    Algeria    win\n",
       "\n",
       "[7514 rows x 2 columns]"
      ]
     },
     "execution_count": 128,
     "metadata": {},
     "output_type": "execute_result"
    }
   ],
   "source": [
    "#Finding who won,drew or lost from every match \n",
    "home_wins_draws_loses=major[['home_team','result']]\n",
    "home_wins_draws_loses.rename(columns={'home_team':'team'},inplace=True)\n",
    "home_wins_draws_loses['result']=[\"win\" if x==\"home_win\" else \"draw\" if x==\"draw\" else \"lose\" for x in home_wins_draws_loses['result']]\n",
    "away_wins_draws_loses=major[['away_team','result']]\n",
    "away_wins_draws_loses.rename(columns={'away_team':'team'},inplace=True)\n",
    "away_wins_draws_loses['result']=[\"win\" if x==\"away_win\" else \"draw\" if x==\"draw\" else \"lose\" for x in away_wins_draws_loses['result']]\n",
    "wins_draws_loses_df=home_wins_draws_loses[['team','result']]\n",
    "wins_draws_loses_df=wins_draws_loses_df.append(away_wins_draws_loses)\n",
    "wins_draws_loses_df"
   ]
  },
  {
   "cell_type": "code",
   "execution_count": 129,
   "metadata": {
    "scrolled": true
   },
   "outputs": [
    {
     "data": {
      "text/html": [
       "<div>\n",
       "<style scoped>\n",
       "    .dataframe tbody tr th:only-of-type {\n",
       "        vertical-align: middle;\n",
       "    }\n",
       "\n",
       "    .dataframe tbody tr th {\n",
       "        vertical-align: top;\n",
       "    }\n",
       "\n",
       "    .dataframe thead th {\n",
       "        text-align: right;\n",
       "    }\n",
       "</style>\n",
       "<table border=\"1\" class=\"dataframe\">\n",
       "  <thead>\n",
       "    <tr style=\"text-align: right;\">\n",
       "      <th></th>\n",
       "      <th>result</th>\n",
       "    </tr>\n",
       "    <tr>\n",
       "      <th>team</th>\n",
       "      <th></th>\n",
       "    </tr>\n",
       "  </thead>\n",
       "  <tbody>\n",
       "    <tr>\n",
       "      <th>Albania</th>\n",
       "      <td>2</td>\n",
       "    </tr>\n",
       "    <tr>\n",
       "      <th>Algeria</th>\n",
       "      <td>32</td>\n",
       "    </tr>\n",
       "    <tr>\n",
       "      <th>Angola</th>\n",
       "      <td>11</td>\n",
       "    </tr>\n",
       "    <tr>\n",
       "      <th>Argentina</th>\n",
       "      <td>58</td>\n",
       "    </tr>\n",
       "    <tr>\n",
       "      <th>Aruba</th>\n",
       "      <td>3</td>\n",
       "    </tr>\n",
       "    <tr>\n",
       "      <th>...</th>\n",
       "      <td>...</td>\n",
       "    </tr>\n",
       "    <tr>\n",
       "      <th>Yemen</th>\n",
       "      <td>3</td>\n",
       "    </tr>\n",
       "    <tr>\n",
       "      <th>Yemen DPR</th>\n",
       "      <td>2</td>\n",
       "    </tr>\n",
       "    <tr>\n",
       "      <th>Yugoslavia</th>\n",
       "      <td>19</td>\n",
       "    </tr>\n",
       "    <tr>\n",
       "      <th>Zambia</th>\n",
       "      <td>21</td>\n",
       "    </tr>\n",
       "    <tr>\n",
       "      <th>Zimbabwe</th>\n",
       "      <td>8</td>\n",
       "    </tr>\n",
       "  </tbody>\n",
       "</table>\n",
       "<p>159 rows × 1 columns</p>\n",
       "</div>"
      ],
      "text/plain": [
       "            result\n",
       "team              \n",
       "Albania          2\n",
       "Algeria         32\n",
       "Angola          11\n",
       "Argentina       58\n",
       "Aruba            3\n",
       "...            ...\n",
       "Yemen            3\n",
       "Yemen DPR        2\n",
       "Yugoslavia      19\n",
       "Zambia          21\n",
       "Zimbabwe         8\n",
       "\n",
       "[159 rows x 1 columns]"
      ]
     },
     "execution_count": 129,
     "metadata": {},
     "output_type": "execute_result"
    }
   ],
   "source": [
    "#Aggregating the counts in the above table \n",
    "wins=wins_draws_loses_df.loc[(wins_draws_loses_df['result']=='win')]\n",
    "wins=wins.groupby('team').count()\n",
    "draws=wins_draws_loses_df.loc[(wins_draws_loses_df['result']=='draw')]\n",
    "draws=draws.groupby('team').count()\n",
    "loses=wins_draws_loses_df.loc[(wins_draws_loses_df['result']=='lose')]\n",
    "loses=loses.groupby('team').count()\n",
    "\n",
    "#Another option /major.pivot_table(index=['team','result'],aggfunc='count')['away_score']\n",
    "#draws\n",
    "#wins\n",
    "loses"
   ]
  },
  {
   "cell_type": "code",
   "execution_count": 130,
   "metadata": {},
   "outputs": [],
   "source": [
    "countries['wins']=[wins.loc[x]['result'] if x in wins.index else 0 for x in countries.index]\n",
    "countries['draws']=[draws.loc[x]['result'] if x in draws.index else 0 for x in countries.index]\n",
    "countries['loses']=[loses.loc[x]['result'] if x in loses.index else 0 for x in countries.index]"
   ]
  },
  {
   "cell_type": "code",
   "execution_count": 131,
   "metadata": {},
   "outputs": [
    {
     "data": {
      "text/html": [
       "<div>\n",
       "<style scoped>\n",
       "    .dataframe tbody tr th:only-of-type {\n",
       "        vertical-align: middle;\n",
       "    }\n",
       "\n",
       "    .dataframe tbody tr th {\n",
       "        vertical-align: top;\n",
       "    }\n",
       "\n",
       "    .dataframe thead th {\n",
       "        text-align: right;\n",
       "    }\n",
       "</style>\n",
       "<table border=\"1\" class=\"dataframe\">\n",
       "  <thead>\n",
       "    <tr style=\"text-align: right;\">\n",
       "      <th></th>\n",
       "      <th>scored</th>\n",
       "      <th>conceded</th>\n",
       "      <th>games_played</th>\n",
       "      <th>scored_avg</th>\n",
       "      <th>conceded_avg</th>\n",
       "      <th>wins</th>\n",
       "      <th>draws</th>\n",
       "      <th>loses</th>\n",
       "    </tr>\n",
       "  </thead>\n",
       "  <tbody>\n",
       "    <tr>\n",
       "      <th>Albania</th>\n",
       "      <td>1</td>\n",
       "      <td>3</td>\n",
       "      <td>3</td>\n",
       "      <td>0.333333</td>\n",
       "      <td>1.000000</td>\n",
       "      <td>1</td>\n",
       "      <td>0</td>\n",
       "      <td>2</td>\n",
       "    </tr>\n",
       "    <tr>\n",
       "      <th>Algeria</th>\n",
       "      <td>106</td>\n",
       "      <td>104</td>\n",
       "      <td>87</td>\n",
       "      <td>1.218391</td>\n",
       "      <td>1.195402</td>\n",
       "      <td>31</td>\n",
       "      <td>24</td>\n",
       "      <td>32</td>\n",
       "    </tr>\n",
       "    <tr>\n",
       "      <th>Angola</th>\n",
       "      <td>31</td>\n",
       "      <td>41</td>\n",
       "      <td>29</td>\n",
       "      <td>1.068966</td>\n",
       "      <td>1.413793</td>\n",
       "      <td>4</td>\n",
       "      <td>14</td>\n",
       "      <td>11</td>\n",
       "    </tr>\n",
       "    <tr>\n",
       "      <th>Argentina</th>\n",
       "      <td>621</td>\n",
       "      <td>286</td>\n",
       "      <td>286</td>\n",
       "      <td>2.171329</td>\n",
       "      <td>1.000000</td>\n",
       "      <td>170</td>\n",
       "      <td>58</td>\n",
       "      <td>58</td>\n",
       "    </tr>\n",
       "    <tr>\n",
       "      <th>Aruba</th>\n",
       "      <td>8</td>\n",
       "      <td>9</td>\n",
       "      <td>5</td>\n",
       "      <td>1.600000</td>\n",
       "      <td>1.800000</td>\n",
       "      <td>1</td>\n",
       "      <td>1</td>\n",
       "      <td>3</td>\n",
       "    </tr>\n",
       "    <tr>\n",
       "      <th>...</th>\n",
       "      <td>...</td>\n",
       "      <td>...</td>\n",
       "      <td>...</td>\n",
       "      <td>...</td>\n",
       "      <td>...</td>\n",
       "      <td>...</td>\n",
       "      <td>...</td>\n",
       "      <td>...</td>\n",
       "    </tr>\n",
       "    <tr>\n",
       "      <th>Yemen</th>\n",
       "      <td>0</td>\n",
       "      <td>10</td>\n",
       "      <td>3</td>\n",
       "      <td>0.000000</td>\n",
       "      <td>3.333333</td>\n",
       "      <td>0</td>\n",
       "      <td>0</td>\n",
       "      <td>3</td>\n",
       "    </tr>\n",
       "    <tr>\n",
       "      <th>Yemen DPR</th>\n",
       "      <td>0</td>\n",
       "      <td>9</td>\n",
       "      <td>2</td>\n",
       "      <td>0.000000</td>\n",
       "      <td>4.500000</td>\n",
       "      <td>0</td>\n",
       "      <td>0</td>\n",
       "      <td>2</td>\n",
       "    </tr>\n",
       "    <tr>\n",
       "      <th>Yugoslavia</th>\n",
       "      <td>69</td>\n",
       "      <td>68</td>\n",
       "      <td>43</td>\n",
       "      <td>1.604651</td>\n",
       "      <td>1.581395</td>\n",
       "      <td>16</td>\n",
       "      <td>8</td>\n",
       "      <td>19</td>\n",
       "    </tr>\n",
       "    <tr>\n",
       "      <th>Zambia</th>\n",
       "      <td>81</td>\n",
       "      <td>69</td>\n",
       "      <td>67</td>\n",
       "      <td>1.208955</td>\n",
       "      <td>1.029851</td>\n",
       "      <td>26</td>\n",
       "      <td>20</td>\n",
       "      <td>21</td>\n",
       "    </tr>\n",
       "    <tr>\n",
       "      <th>Zimbabwe</th>\n",
       "      <td>13</td>\n",
       "      <td>27</td>\n",
       "      <td>12</td>\n",
       "      <td>1.083333</td>\n",
       "      <td>2.250000</td>\n",
       "      <td>2</td>\n",
       "      <td>2</td>\n",
       "      <td>8</td>\n",
       "    </tr>\n",
       "  </tbody>\n",
       "</table>\n",
       "<p>159 rows × 8 columns</p>\n",
       "</div>"
      ],
      "text/plain": [
       "            scored  conceded  games_played  scored_avg  conceded_avg  wins  \\\n",
       "Albania          1         3             3    0.333333      1.000000     1   \n",
       "Algeria        106       104            87    1.218391      1.195402    31   \n",
       "Angola          31        41            29    1.068966      1.413793     4   \n",
       "Argentina      621       286           286    2.171329      1.000000   170   \n",
       "Aruba            8         9             5    1.600000      1.800000     1   \n",
       "...            ...       ...           ...         ...           ...   ...   \n",
       "Yemen            0        10             3    0.000000      3.333333     0   \n",
       "Yemen DPR        0         9             2    0.000000      4.500000     0   \n",
       "Yugoslavia      69        68            43    1.604651      1.581395    16   \n",
       "Zambia          81        69            67    1.208955      1.029851    26   \n",
       "Zimbabwe        13        27            12    1.083333      2.250000     2   \n",
       "\n",
       "            draws  loses  \n",
       "Albania         0      2  \n",
       "Algeria        24     32  \n",
       "Angola         14     11  \n",
       "Argentina      58     58  \n",
       "Aruba           1      3  \n",
       "...           ...    ...  \n",
       "Yemen           0      3  \n",
       "Yemen DPR       0      2  \n",
       "Yugoslavia      8     19  \n",
       "Zambia         20     21  \n",
       "Zimbabwe        2      8  \n",
       "\n",
       "[159 rows x 8 columns]"
      ]
     },
     "execution_count": 131,
     "metadata": {},
     "output_type": "execute_result"
    }
   ],
   "source": [
    "countries"
   ]
  },
  {
   "cell_type": "code",
   "execution_count": 132,
   "metadata": {},
   "outputs": [
    {
     "data": {
      "text/html": [
       "<div>\n",
       "<style scoped>\n",
       "    .dataframe tbody tr th:only-of-type {\n",
       "        vertical-align: middle;\n",
       "    }\n",
       "\n",
       "    .dataframe tbody tr th {\n",
       "        vertical-align: top;\n",
       "    }\n",
       "\n",
       "    .dataframe thead th {\n",
       "        text-align: right;\n",
       "    }\n",
       "</style>\n",
       "<table border=\"1\" class=\"dataframe\">\n",
       "  <thead>\n",
       "    <tr style=\"text-align: right;\">\n",
       "      <th></th>\n",
       "      <th>scored</th>\n",
       "      <th>conceded</th>\n",
       "      <th>games_played</th>\n",
       "      <th>scored_avg</th>\n",
       "      <th>conceded_avg</th>\n",
       "      <th>wins</th>\n",
       "      <th>draws</th>\n",
       "      <th>loses</th>\n",
       "    </tr>\n",
       "  </thead>\n",
       "  <tbody>\n",
       "    <tr>\n",
       "      <th>Brazil</th>\n",
       "      <td>747</td>\n",
       "      <td>343</td>\n",
       "      <td>340</td>\n",
       "      <td>2.197059</td>\n",
       "      <td>1.008824</td>\n",
       "      <td>207</td>\n",
       "      <td>62</td>\n",
       "      <td>71</td>\n",
       "    </tr>\n",
       "    <tr>\n",
       "      <th>Argentina</th>\n",
       "      <td>621</td>\n",
       "      <td>286</td>\n",
       "      <td>286</td>\n",
       "      <td>2.171329</td>\n",
       "      <td>1.000000</td>\n",
       "      <td>170</td>\n",
       "      <td>58</td>\n",
       "      <td>58</td>\n",
       "    </tr>\n",
       "    <tr>\n",
       "      <th>Uruguay</th>\n",
       "      <td>515</td>\n",
       "      <td>307</td>\n",
       "      <td>267</td>\n",
       "      <td>1.928839</td>\n",
       "      <td>1.149813</td>\n",
       "      <td>139</td>\n",
       "      <td>49</td>\n",
       "      <td>79</td>\n",
       "    </tr>\n",
       "    <tr>\n",
       "      <th>Mexico</th>\n",
       "      <td>355</td>\n",
       "      <td>253</td>\n",
       "      <td>210</td>\n",
       "      <td>1.690476</td>\n",
       "      <td>1.204762</td>\n",
       "      <td>102</td>\n",
       "      <td>45</td>\n",
       "      <td>63</td>\n",
       "    </tr>\n",
       "    <tr>\n",
       "      <th>Germany</th>\n",
       "      <td>327</td>\n",
       "      <td>195</td>\n",
       "      <td>171</td>\n",
       "      <td>1.912281</td>\n",
       "      <td>1.140351</td>\n",
       "      <td>101</td>\n",
       "      <td>34</td>\n",
       "      <td>36</td>\n",
       "    </tr>\n",
       "    <tr>\n",
       "      <th>United States</th>\n",
       "      <td>243</td>\n",
       "      <td>178</td>\n",
       "      <td>149</td>\n",
       "      <td>1.630872</td>\n",
       "      <td>1.194631</td>\n",
       "      <td>81</td>\n",
       "      <td>19</td>\n",
       "      <td>49</td>\n",
       "    </tr>\n",
       "    <tr>\n",
       "      <th>Chile</th>\n",
       "      <td>337</td>\n",
       "      <td>365</td>\n",
       "      <td>223</td>\n",
       "      <td>1.511211</td>\n",
       "      <td>1.636771</td>\n",
       "      <td>78</td>\n",
       "      <td>44</td>\n",
       "      <td>101</td>\n",
       "    </tr>\n",
       "    <tr>\n",
       "      <th>Paraguay</th>\n",
       "      <td>291</td>\n",
       "      <td>338</td>\n",
       "      <td>201</td>\n",
       "      <td>1.447761</td>\n",
       "      <td>1.681592</td>\n",
       "      <td>70</td>\n",
       "      <td>54</td>\n",
       "      <td>77</td>\n",
       "    </tr>\n",
       "    <tr>\n",
       "      <th>Italy</th>\n",
       "      <td>180</td>\n",
       "      <td>119</td>\n",
       "      <td>129</td>\n",
       "      <td>1.395349</td>\n",
       "      <td>0.922481</td>\n",
       "      <td>64</td>\n",
       "      <td>39</td>\n",
       "      <td>26</td>\n",
       "    </tr>\n",
       "    <tr>\n",
       "      <th>France</th>\n",
       "      <td>206</td>\n",
       "      <td>126</td>\n",
       "      <td>115</td>\n",
       "      <td>1.791304</td>\n",
       "      <td>1.095652</td>\n",
       "      <td>63</td>\n",
       "      <td>22</td>\n",
       "      <td>30</td>\n",
       "    </tr>\n",
       "    <tr>\n",
       "      <th>Costa Rica</th>\n",
       "      <td>271</td>\n",
       "      <td>179</td>\n",
       "      <td>135</td>\n",
       "      <td>2.007407</td>\n",
       "      <td>1.325926</td>\n",
       "      <td>62</td>\n",
       "      <td>28</td>\n",
       "      <td>45</td>\n",
       "    </tr>\n",
       "    <tr>\n",
       "      <th>Peru</th>\n",
       "      <td>248</td>\n",
       "      <td>281</td>\n",
       "      <td>176</td>\n",
       "      <td>1.409091</td>\n",
       "      <td>1.596591</td>\n",
       "      <td>61</td>\n",
       "      <td>42</td>\n",
       "      <td>73</td>\n",
       "    </tr>\n",
       "    <tr>\n",
       "      <th>Colombia</th>\n",
       "      <td>188</td>\n",
       "      <td>241</td>\n",
       "      <td>159</td>\n",
       "      <td>1.182390</td>\n",
       "      <td>1.515723</td>\n",
       "      <td>61</td>\n",
       "      <td>31</td>\n",
       "      <td>67</td>\n",
       "    </tr>\n",
       "    <tr>\n",
       "      <th>Nigeria</th>\n",
       "      <td>168</td>\n",
       "      <td>126</td>\n",
       "      <td>120</td>\n",
       "      <td>1.400000</td>\n",
       "      <td>1.050000</td>\n",
       "      <td>59</td>\n",
       "      <td>26</td>\n",
       "      <td>35</td>\n",
       "    </tr>\n",
       "    <tr>\n",
       "      <th>Ghana</th>\n",
       "      <td>143</td>\n",
       "      <td>98</td>\n",
       "      <td>111</td>\n",
       "      <td>1.288288</td>\n",
       "      <td>0.882883</td>\n",
       "      <td>58</td>\n",
       "      <td>23</td>\n",
       "      <td>30</td>\n",
       "    </tr>\n",
       "    <tr>\n",
       "      <th>Egypt</th>\n",
       "      <td>178</td>\n",
       "      <td>116</td>\n",
       "      <td>113</td>\n",
       "      <td>1.575221</td>\n",
       "      <td>1.026549</td>\n",
       "      <td>58</td>\n",
       "      <td>21</td>\n",
       "      <td>34</td>\n",
       "    </tr>\n",
       "    <tr>\n",
       "      <th>Spain</th>\n",
       "      <td>180</td>\n",
       "      <td>116</td>\n",
       "      <td>113</td>\n",
       "      <td>1.592920</td>\n",
       "      <td>1.026549</td>\n",
       "      <td>56</td>\n",
       "      <td>27</td>\n",
       "      <td>30</td>\n",
       "    </tr>\n",
       "    <tr>\n",
       "      <th>Cameroon</th>\n",
       "      <td>148</td>\n",
       "      <td>130</td>\n",
       "      <td>118</td>\n",
       "      <td>1.254237</td>\n",
       "      <td>1.101695</td>\n",
       "      <td>49</td>\n",
       "      <td>36</td>\n",
       "      <td>33</td>\n",
       "    </tr>\n",
       "    <tr>\n",
       "      <th>Ivory Coast</th>\n",
       "      <td>153</td>\n",
       "      <td>123</td>\n",
       "      <td>106</td>\n",
       "      <td>1.443396</td>\n",
       "      <td>1.160377</td>\n",
       "      <td>45</td>\n",
       "      <td>26</td>\n",
       "      <td>35</td>\n",
       "    </tr>\n",
       "    <tr>\n",
       "      <th>South Korea</th>\n",
       "      <td>148</td>\n",
       "      <td>149</td>\n",
       "      <td>111</td>\n",
       "      <td>1.333333</td>\n",
       "      <td>1.342342</td>\n",
       "      <td>44</td>\n",
       "      <td>29</td>\n",
       "      <td>38</td>\n",
       "    </tr>\n",
       "  </tbody>\n",
       "</table>\n",
       "</div>"
      ],
      "text/plain": [
       "               scored  conceded  games_played  scored_avg  conceded_avg  wins  \\\n",
       "Brazil            747       343           340    2.197059      1.008824   207   \n",
       "Argentina         621       286           286    2.171329      1.000000   170   \n",
       "Uruguay           515       307           267    1.928839      1.149813   139   \n",
       "Mexico            355       253           210    1.690476      1.204762   102   \n",
       "Germany           327       195           171    1.912281      1.140351   101   \n",
       "United States     243       178           149    1.630872      1.194631    81   \n",
       "Chile             337       365           223    1.511211      1.636771    78   \n",
       "Paraguay          291       338           201    1.447761      1.681592    70   \n",
       "Italy             180       119           129    1.395349      0.922481    64   \n",
       "France            206       126           115    1.791304      1.095652    63   \n",
       "Costa Rica        271       179           135    2.007407      1.325926    62   \n",
       "Peru              248       281           176    1.409091      1.596591    61   \n",
       "Colombia          188       241           159    1.182390      1.515723    61   \n",
       "Nigeria           168       126           120    1.400000      1.050000    59   \n",
       "Ghana             143        98           111    1.288288      0.882883    58   \n",
       "Egypt             178       116           113    1.575221      1.026549    58   \n",
       "Spain             180       116           113    1.592920      1.026549    56   \n",
       "Cameroon          148       130           118    1.254237      1.101695    49   \n",
       "Ivory Coast       153       123           106    1.443396      1.160377    45   \n",
       "South Korea       148       149           111    1.333333      1.342342    44   \n",
       "\n",
       "               draws  loses  \n",
       "Brazil            62     71  \n",
       "Argentina         58     58  \n",
       "Uruguay           49     79  \n",
       "Mexico            45     63  \n",
       "Germany           34     36  \n",
       "United States     19     49  \n",
       "Chile             44    101  \n",
       "Paraguay          54     77  \n",
       "Italy             39     26  \n",
       "France            22     30  \n",
       "Costa Rica        28     45  \n",
       "Peru              42     73  \n",
       "Colombia          31     67  \n",
       "Nigeria           26     35  \n",
       "Ghana             23     30  \n",
       "Egypt             21     34  \n",
       "Spain             27     30  \n",
       "Cameroon          36     33  \n",
       "Ivory Coast       26     35  \n",
       "South Korea       29     38  "
      ]
     },
     "execution_count": 132,
     "metadata": {},
     "output_type": "execute_result"
    }
   ],
   "source": [
    "countries.sort_values('wins',ascending=False).head(20)"
   ]
  },
  {
   "cell_type": "code",
   "execution_count": 133,
   "metadata": {},
   "outputs": [
    {
     "data": {
      "text/html": [
       "<div>\n",
       "<style scoped>\n",
       "    .dataframe tbody tr th:only-of-type {\n",
       "        vertical-align: middle;\n",
       "    }\n",
       "\n",
       "    .dataframe tbody tr th {\n",
       "        vertical-align: top;\n",
       "    }\n",
       "\n",
       "    .dataframe thead th {\n",
       "        text-align: right;\n",
       "    }\n",
       "</style>\n",
       "<table border=\"1\" class=\"dataframe\">\n",
       "  <thead>\n",
       "    <tr style=\"text-align: right;\">\n",
       "      <th></th>\n",
       "      <th>scored</th>\n",
       "      <th>conceded</th>\n",
       "      <th>games_played</th>\n",
       "      <th>scored_avg</th>\n",
       "      <th>conceded_avg</th>\n",
       "      <th>wins</th>\n",
       "      <th>draws</th>\n",
       "      <th>loses</th>\n",
       "    </tr>\n",
       "  </thead>\n",
       "  <tbody>\n",
       "    <tr>\n",
       "      <th>New Caledonia</th>\n",
       "      <td>53</td>\n",
       "      <td>42</td>\n",
       "      <td>21</td>\n",
       "      <td>2.523810</td>\n",
       "      <td>2.000000</td>\n",
       "      <td>10</td>\n",
       "      <td>2</td>\n",
       "      <td>9</td>\n",
       "    </tr>\n",
       "    <tr>\n",
       "      <th>Australia</th>\n",
       "      <td>191</td>\n",
       "      <td>80</td>\n",
       "      <td>76</td>\n",
       "      <td>2.513158</td>\n",
       "      <td>1.052632</td>\n",
       "      <td>39</td>\n",
       "      <td>12</td>\n",
       "      <td>25</td>\n",
       "    </tr>\n",
       "    <tr>\n",
       "      <th>Hungary</th>\n",
       "      <td>98</td>\n",
       "      <td>71</td>\n",
       "      <td>40</td>\n",
       "      <td>2.450000</td>\n",
       "      <td>1.775000</td>\n",
       "      <td>17</td>\n",
       "      <td>5</td>\n",
       "      <td>18</td>\n",
       "    </tr>\n",
       "    <tr>\n",
       "      <th>Tahiti</th>\n",
       "      <td>80</td>\n",
       "      <td>81</td>\n",
       "      <td>35</td>\n",
       "      <td>2.285714</td>\n",
       "      <td>2.314286</td>\n",
       "      <td>18</td>\n",
       "      <td>3</td>\n",
       "      <td>14</td>\n",
       "    </tr>\n",
       "    <tr>\n",
       "      <th>Brazil</th>\n",
       "      <td>747</td>\n",
       "      <td>343</td>\n",
       "      <td>340</td>\n",
       "      <td>2.197059</td>\n",
       "      <td>1.008824</td>\n",
       "      <td>207</td>\n",
       "      <td>62</td>\n",
       "      <td>71</td>\n",
       "    </tr>\n",
       "    <tr>\n",
       "      <th>Argentina</th>\n",
       "      <td>621</td>\n",
       "      <td>286</td>\n",
       "      <td>286</td>\n",
       "      <td>2.171329</td>\n",
       "      <td>1.000000</td>\n",
       "      <td>170</td>\n",
       "      <td>58</td>\n",
       "      <td>58</td>\n",
       "    </tr>\n",
       "    <tr>\n",
       "      <th>Costa Rica</th>\n",
       "      <td>271</td>\n",
       "      <td>179</td>\n",
       "      <td>135</td>\n",
       "      <td>2.007407</td>\n",
       "      <td>1.325926</td>\n",
       "      <td>62</td>\n",
       "      <td>28</td>\n",
       "      <td>45</td>\n",
       "    </tr>\n",
       "    <tr>\n",
       "      <th>Curaçao</th>\n",
       "      <td>78</td>\n",
       "      <td>70</td>\n",
       "      <td>39</td>\n",
       "      <td>2.000000</td>\n",
       "      <td>1.794872</td>\n",
       "      <td>14</td>\n",
       "      <td>10</td>\n",
       "      <td>15</td>\n",
       "    </tr>\n",
       "    <tr>\n",
       "      <th>Uruguay</th>\n",
       "      <td>515</td>\n",
       "      <td>307</td>\n",
       "      <td>267</td>\n",
       "      <td>1.928839</td>\n",
       "      <td>1.149813</td>\n",
       "      <td>139</td>\n",
       "      <td>49</td>\n",
       "      <td>79</td>\n",
       "    </tr>\n",
       "    <tr>\n",
       "      <th>Germany</th>\n",
       "      <td>327</td>\n",
       "      <td>195</td>\n",
       "      <td>171</td>\n",
       "      <td>1.912281</td>\n",
       "      <td>1.140351</td>\n",
       "      <td>101</td>\n",
       "      <td>34</td>\n",
       "      <td>36</td>\n",
       "    </tr>\n",
       "    <tr>\n",
       "      <th>Israel</th>\n",
       "      <td>29</td>\n",
       "      <td>18</td>\n",
       "      <td>16</td>\n",
       "      <td>1.812500</td>\n",
       "      <td>1.125000</td>\n",
       "      <td>9</td>\n",
       "      <td>2</td>\n",
       "      <td>5</td>\n",
       "    </tr>\n",
       "    <tr>\n",
       "      <th>France</th>\n",
       "      <td>206</td>\n",
       "      <td>126</td>\n",
       "      <td>115</td>\n",
       "      <td>1.791304</td>\n",
       "      <td>1.095652</td>\n",
       "      <td>63</td>\n",
       "      <td>22</td>\n",
       "      <td>30</td>\n",
       "    </tr>\n",
       "    <tr>\n",
       "      <th>Guatemala</th>\n",
       "      <td>102</td>\n",
       "      <td>102</td>\n",
       "      <td>60</td>\n",
       "      <td>1.700000</td>\n",
       "      <td>1.700000</td>\n",
       "      <td>19</td>\n",
       "      <td>16</td>\n",
       "      <td>25</td>\n",
       "    </tr>\n",
       "    <tr>\n",
       "      <th>Mexico</th>\n",
       "      <td>355</td>\n",
       "      <td>253</td>\n",
       "      <td>210</td>\n",
       "      <td>1.690476</td>\n",
       "      <td>1.204762</td>\n",
       "      <td>102</td>\n",
       "      <td>45</td>\n",
       "      <td>63</td>\n",
       "    </tr>\n",
       "    <tr>\n",
       "      <th>Iran</th>\n",
       "      <td>140</td>\n",
       "      <td>72</td>\n",
       "      <td>83</td>\n",
       "      <td>1.686747</td>\n",
       "      <td>0.867470</td>\n",
       "      <td>43</td>\n",
       "      <td>23</td>\n",
       "      <td>17</td>\n",
       "    </tr>\n",
       "    <tr>\n",
       "      <th>New Zealand</th>\n",
       "      <td>86</td>\n",
       "      <td>75</td>\n",
       "      <td>51</td>\n",
       "      <td>1.686275</td>\n",
       "      <td>1.470588</td>\n",
       "      <td>24</td>\n",
       "      <td>8</td>\n",
       "      <td>19</td>\n",
       "    </tr>\n",
       "    <tr>\n",
       "      <th>Netherlands</th>\n",
       "      <td>143</td>\n",
       "      <td>85</td>\n",
       "      <td>85</td>\n",
       "      <td>1.682353</td>\n",
       "      <td>1.000000</td>\n",
       "      <td>44</td>\n",
       "      <td>20</td>\n",
       "      <td>21</td>\n",
       "    </tr>\n",
       "    <tr>\n",
       "      <th>Papua New Guinea</th>\n",
       "      <td>23</td>\n",
       "      <td>42</td>\n",
       "      <td>14</td>\n",
       "      <td>1.642857</td>\n",
       "      <td>3.000000</td>\n",
       "      <td>3</td>\n",
       "      <td>5</td>\n",
       "      <td>6</td>\n",
       "    </tr>\n",
       "    <tr>\n",
       "      <th>United States</th>\n",
       "      <td>243</td>\n",
       "      <td>178</td>\n",
       "      <td>149</td>\n",
       "      <td>1.630872</td>\n",
       "      <td>1.194631</td>\n",
       "      <td>81</td>\n",
       "      <td>19</td>\n",
       "      <td>49</td>\n",
       "    </tr>\n",
       "    <tr>\n",
       "      <th>Yugoslavia</th>\n",
       "      <td>69</td>\n",
       "      <td>68</td>\n",
       "      <td>43</td>\n",
       "      <td>1.604651</td>\n",
       "      <td>1.581395</td>\n",
       "      <td>16</td>\n",
       "      <td>8</td>\n",
       "      <td>19</td>\n",
       "    </tr>\n",
       "  </tbody>\n",
       "</table>\n",
       "</div>"
      ],
      "text/plain": [
       "                  scored  conceded  games_played  scored_avg  conceded_avg  \\\n",
       "New Caledonia         53        42            21    2.523810      2.000000   \n",
       "Australia            191        80            76    2.513158      1.052632   \n",
       "Hungary               98        71            40    2.450000      1.775000   \n",
       "Tahiti                80        81            35    2.285714      2.314286   \n",
       "Brazil               747       343           340    2.197059      1.008824   \n",
       "Argentina            621       286           286    2.171329      1.000000   \n",
       "Costa Rica           271       179           135    2.007407      1.325926   \n",
       "Curaçao               78        70            39    2.000000      1.794872   \n",
       "Uruguay              515       307           267    1.928839      1.149813   \n",
       "Germany              327       195           171    1.912281      1.140351   \n",
       "Israel                29        18            16    1.812500      1.125000   \n",
       "France               206       126           115    1.791304      1.095652   \n",
       "Guatemala            102       102            60    1.700000      1.700000   \n",
       "Mexico               355       253           210    1.690476      1.204762   \n",
       "Iran                 140        72            83    1.686747      0.867470   \n",
       "New Zealand           86        75            51    1.686275      1.470588   \n",
       "Netherlands          143        85            85    1.682353      1.000000   \n",
       "Papua New Guinea      23        42            14    1.642857      3.000000   \n",
       "United States        243       178           149    1.630872      1.194631   \n",
       "Yugoslavia            69        68            43    1.604651      1.581395   \n",
       "\n",
       "                  wins  draws  loses  \n",
       "New Caledonia       10      2      9  \n",
       "Australia           39     12     25  \n",
       "Hungary             17      5     18  \n",
       "Tahiti              18      3     14  \n",
       "Brazil             207     62     71  \n",
       "Argentina          170     58     58  \n",
       "Costa Rica          62     28     45  \n",
       "Curaçao             14     10     15  \n",
       "Uruguay            139     49     79  \n",
       "Germany            101     34     36  \n",
       "Israel               9      2      5  \n",
       "France              63     22     30  \n",
       "Guatemala           19     16     25  \n",
       "Mexico             102     45     63  \n",
       "Iran                43     23     17  \n",
       "New Zealand         24      8     19  \n",
       "Netherlands         44     20     21  \n",
       "Papua New Guinea     3      5      6  \n",
       "United States       81     19     49  \n",
       "Yugoslavia          16      8     19  "
      ]
     },
     "execution_count": 133,
     "metadata": {},
     "output_type": "execute_result"
    }
   ],
   "source": [
    "countries.sort_values('scored_avg',ascending=False).head(20)"
   ]
  },
  {
   "cell_type": "code",
   "execution_count": 134,
   "metadata": {},
   "outputs": [],
   "source": [
    "countries['weight']=countries['games_played']/100"
   ]
  },
  {
   "cell_type": "code",
   "execution_count": 135,
   "metadata": {},
   "outputs": [
    {
     "data": {
      "text/html": [
       "<div>\n",
       "<style scoped>\n",
       "    .dataframe tbody tr th:only-of-type {\n",
       "        vertical-align: middle;\n",
       "    }\n",
       "\n",
       "    .dataframe tbody tr th {\n",
       "        vertical-align: top;\n",
       "    }\n",
       "\n",
       "    .dataframe thead th {\n",
       "        text-align: right;\n",
       "    }\n",
       "</style>\n",
       "<table border=\"1\" class=\"dataframe\">\n",
       "  <thead>\n",
       "    <tr style=\"text-align: right;\">\n",
       "      <th></th>\n",
       "      <th>scored</th>\n",
       "      <th>conceded</th>\n",
       "      <th>games_played</th>\n",
       "      <th>scored_avg</th>\n",
       "      <th>conceded_avg</th>\n",
       "      <th>wins</th>\n",
       "      <th>draws</th>\n",
       "      <th>loses</th>\n",
       "      <th>weight</th>\n",
       "    </tr>\n",
       "  </thead>\n",
       "  <tbody>\n",
       "    <tr>\n",
       "      <th>Albania</th>\n",
       "      <td>1</td>\n",
       "      <td>3</td>\n",
       "      <td>3</td>\n",
       "      <td>0.333333</td>\n",
       "      <td>1.000000</td>\n",
       "      <td>1</td>\n",
       "      <td>0</td>\n",
       "      <td>2</td>\n",
       "      <td>0.03</td>\n",
       "    </tr>\n",
       "    <tr>\n",
       "      <th>Algeria</th>\n",
       "      <td>106</td>\n",
       "      <td>104</td>\n",
       "      <td>87</td>\n",
       "      <td>1.218391</td>\n",
       "      <td>1.195402</td>\n",
       "      <td>31</td>\n",
       "      <td>24</td>\n",
       "      <td>32</td>\n",
       "      <td>0.87</td>\n",
       "    </tr>\n",
       "    <tr>\n",
       "      <th>Angola</th>\n",
       "      <td>31</td>\n",
       "      <td>41</td>\n",
       "      <td>29</td>\n",
       "      <td>1.068966</td>\n",
       "      <td>1.413793</td>\n",
       "      <td>4</td>\n",
       "      <td>14</td>\n",
       "      <td>11</td>\n",
       "      <td>0.29</td>\n",
       "    </tr>\n",
       "    <tr>\n",
       "      <th>Argentina</th>\n",
       "      <td>621</td>\n",
       "      <td>286</td>\n",
       "      <td>286</td>\n",
       "      <td>2.171329</td>\n",
       "      <td>1.000000</td>\n",
       "      <td>170</td>\n",
       "      <td>58</td>\n",
       "      <td>58</td>\n",
       "      <td>2.86</td>\n",
       "    </tr>\n",
       "    <tr>\n",
       "      <th>Aruba</th>\n",
       "      <td>8</td>\n",
       "      <td>9</td>\n",
       "      <td>5</td>\n",
       "      <td>1.600000</td>\n",
       "      <td>1.800000</td>\n",
       "      <td>1</td>\n",
       "      <td>1</td>\n",
       "      <td>3</td>\n",
       "      <td>0.05</td>\n",
       "    </tr>\n",
       "    <tr>\n",
       "      <th>...</th>\n",
       "      <td>...</td>\n",
       "      <td>...</td>\n",
       "      <td>...</td>\n",
       "      <td>...</td>\n",
       "      <td>...</td>\n",
       "      <td>...</td>\n",
       "      <td>...</td>\n",
       "      <td>...</td>\n",
       "      <td>...</td>\n",
       "    </tr>\n",
       "    <tr>\n",
       "      <th>Yemen</th>\n",
       "      <td>0</td>\n",
       "      <td>10</td>\n",
       "      <td>3</td>\n",
       "      <td>0.000000</td>\n",
       "      <td>3.333333</td>\n",
       "      <td>0</td>\n",
       "      <td>0</td>\n",
       "      <td>3</td>\n",
       "      <td>0.03</td>\n",
       "    </tr>\n",
       "    <tr>\n",
       "      <th>Yemen DPR</th>\n",
       "      <td>0</td>\n",
       "      <td>9</td>\n",
       "      <td>2</td>\n",
       "      <td>0.000000</td>\n",
       "      <td>4.500000</td>\n",
       "      <td>0</td>\n",
       "      <td>0</td>\n",
       "      <td>2</td>\n",
       "      <td>0.02</td>\n",
       "    </tr>\n",
       "    <tr>\n",
       "      <th>Yugoslavia</th>\n",
       "      <td>69</td>\n",
       "      <td>68</td>\n",
       "      <td>43</td>\n",
       "      <td>1.604651</td>\n",
       "      <td>1.581395</td>\n",
       "      <td>16</td>\n",
       "      <td>8</td>\n",
       "      <td>19</td>\n",
       "      <td>0.43</td>\n",
       "    </tr>\n",
       "    <tr>\n",
       "      <th>Zambia</th>\n",
       "      <td>81</td>\n",
       "      <td>69</td>\n",
       "      <td>67</td>\n",
       "      <td>1.208955</td>\n",
       "      <td>1.029851</td>\n",
       "      <td>26</td>\n",
       "      <td>20</td>\n",
       "      <td>21</td>\n",
       "      <td>0.67</td>\n",
       "    </tr>\n",
       "    <tr>\n",
       "      <th>Zimbabwe</th>\n",
       "      <td>13</td>\n",
       "      <td>27</td>\n",
       "      <td>12</td>\n",
       "      <td>1.083333</td>\n",
       "      <td>2.250000</td>\n",
       "      <td>2</td>\n",
       "      <td>2</td>\n",
       "      <td>8</td>\n",
       "      <td>0.12</td>\n",
       "    </tr>\n",
       "  </tbody>\n",
       "</table>\n",
       "<p>159 rows × 9 columns</p>\n",
       "</div>"
      ],
      "text/plain": [
       "            scored  conceded  games_played  scored_avg  conceded_avg  wins  \\\n",
       "Albania          1         3             3    0.333333      1.000000     1   \n",
       "Algeria        106       104            87    1.218391      1.195402    31   \n",
       "Angola          31        41            29    1.068966      1.413793     4   \n",
       "Argentina      621       286           286    2.171329      1.000000   170   \n",
       "Aruba            8         9             5    1.600000      1.800000     1   \n",
       "...            ...       ...           ...         ...           ...   ...   \n",
       "Yemen            0        10             3    0.000000      3.333333     0   \n",
       "Yemen DPR        0         9             2    0.000000      4.500000     0   \n",
       "Yugoslavia      69        68            43    1.604651      1.581395    16   \n",
       "Zambia          81        69            67    1.208955      1.029851    26   \n",
       "Zimbabwe        13        27            12    1.083333      2.250000     2   \n",
       "\n",
       "            draws  loses  weight  \n",
       "Albania         0      2    0.03  \n",
       "Algeria        24     32    0.87  \n",
       "Angola         14     11    0.29  \n",
       "Argentina      58     58    2.86  \n",
       "Aruba           1      3    0.05  \n",
       "...           ...    ...     ...  \n",
       "Yemen           0      3    0.03  \n",
       "Yemen DPR       0      2    0.02  \n",
       "Yugoslavia      8     19    0.43  \n",
       "Zambia         20     21    0.67  \n",
       "Zimbabwe        2      8    0.12  \n",
       "\n",
       "[159 rows x 9 columns]"
      ]
     },
     "execution_count": 135,
     "metadata": {},
     "output_type": "execute_result"
    }
   ],
   "source": [
    "countries"
   ]
  },
  {
   "cell_type": "code",
   "execution_count": 136,
   "metadata": {},
   "outputs": [],
   "source": [
    "countries['win_percentage']=((countries['wins']/countries['games_played'])*100).round(2)"
   ]
  },
  {
   "cell_type": "code",
   "execution_count": 142,
   "metadata": {},
   "outputs": [],
   "source": [
    "countries['best']=(countries['win_percentage']*countries['weight']).astype('int')"
   ]
  },
  {
   "cell_type": "code",
   "execution_count": 143,
   "metadata": {},
   "outputs": [
    {
     "data": {
      "text/html": [
       "<div>\n",
       "<style scoped>\n",
       "    .dataframe tbody tr th:only-of-type {\n",
       "        vertical-align: middle;\n",
       "    }\n",
       "\n",
       "    .dataframe tbody tr th {\n",
       "        vertical-align: top;\n",
       "    }\n",
       "\n",
       "    .dataframe thead th {\n",
       "        text-align: right;\n",
       "    }\n",
       "</style>\n",
       "<table border=\"1\" class=\"dataframe\">\n",
       "  <thead>\n",
       "    <tr style=\"text-align: right;\">\n",
       "      <th></th>\n",
       "      <th>wins</th>\n",
       "      <th>games_played</th>\n",
       "      <th>win_percentage</th>\n",
       "      <th>weight</th>\n",
       "      <th>best</th>\n",
       "    </tr>\n",
       "  </thead>\n",
       "  <tbody>\n",
       "    <tr>\n",
       "      <th>Brazil</th>\n",
       "      <td>207</td>\n",
       "      <td>340</td>\n",
       "      <td>60.88</td>\n",
       "      <td>3.40</td>\n",
       "      <td>206</td>\n",
       "    </tr>\n",
       "    <tr>\n",
       "      <th>Argentina</th>\n",
       "      <td>170</td>\n",
       "      <td>286</td>\n",
       "      <td>59.44</td>\n",
       "      <td>2.86</td>\n",
       "      <td>169</td>\n",
       "    </tr>\n",
       "    <tr>\n",
       "      <th>Uruguay</th>\n",
       "      <td>139</td>\n",
       "      <td>267</td>\n",
       "      <td>52.06</td>\n",
       "      <td>2.67</td>\n",
       "      <td>139</td>\n",
       "    </tr>\n",
       "    <tr>\n",
       "      <th>Mexico</th>\n",
       "      <td>102</td>\n",
       "      <td>210</td>\n",
       "      <td>48.57</td>\n",
       "      <td>2.10</td>\n",
       "      <td>101</td>\n",
       "    </tr>\n",
       "    <tr>\n",
       "      <th>Germany</th>\n",
       "      <td>101</td>\n",
       "      <td>171</td>\n",
       "      <td>59.06</td>\n",
       "      <td>1.71</td>\n",
       "      <td>100</td>\n",
       "    </tr>\n",
       "    <tr>\n",
       "      <th>United States</th>\n",
       "      <td>81</td>\n",
       "      <td>149</td>\n",
       "      <td>54.36</td>\n",
       "      <td>1.49</td>\n",
       "      <td>80</td>\n",
       "    </tr>\n",
       "    <tr>\n",
       "      <th>Chile</th>\n",
       "      <td>78</td>\n",
       "      <td>223</td>\n",
       "      <td>34.98</td>\n",
       "      <td>2.23</td>\n",
       "      <td>78</td>\n",
       "    </tr>\n",
       "    <tr>\n",
       "      <th>Paraguay</th>\n",
       "      <td>70</td>\n",
       "      <td>201</td>\n",
       "      <td>34.83</td>\n",
       "      <td>2.01</td>\n",
       "      <td>70</td>\n",
       "    </tr>\n",
       "    <tr>\n",
       "      <th>Italy</th>\n",
       "      <td>64</td>\n",
       "      <td>129</td>\n",
       "      <td>49.61</td>\n",
       "      <td>1.29</td>\n",
       "      <td>63</td>\n",
       "    </tr>\n",
       "    <tr>\n",
       "      <th>Costa Rica</th>\n",
       "      <td>62</td>\n",
       "      <td>135</td>\n",
       "      <td>45.93</td>\n",
       "      <td>1.35</td>\n",
       "      <td>62</td>\n",
       "    </tr>\n",
       "    <tr>\n",
       "      <th>France</th>\n",
       "      <td>63</td>\n",
       "      <td>115</td>\n",
       "      <td>54.78</td>\n",
       "      <td>1.15</td>\n",
       "      <td>62</td>\n",
       "    </tr>\n",
       "    <tr>\n",
       "      <th>Peru</th>\n",
       "      <td>61</td>\n",
       "      <td>176</td>\n",
       "      <td>34.66</td>\n",
       "      <td>1.76</td>\n",
       "      <td>61</td>\n",
       "    </tr>\n",
       "    <tr>\n",
       "      <th>Colombia</th>\n",
       "      <td>61</td>\n",
       "      <td>159</td>\n",
       "      <td>38.36</td>\n",
       "      <td>1.59</td>\n",
       "      <td>60</td>\n",
       "    </tr>\n",
       "    <tr>\n",
       "      <th>Nigeria</th>\n",
       "      <td>59</td>\n",
       "      <td>120</td>\n",
       "      <td>49.17</td>\n",
       "      <td>1.20</td>\n",
       "      <td>59</td>\n",
       "    </tr>\n",
       "    <tr>\n",
       "      <th>Egypt</th>\n",
       "      <td>58</td>\n",
       "      <td>113</td>\n",
       "      <td>51.33</td>\n",
       "      <td>1.13</td>\n",
       "      <td>58</td>\n",
       "    </tr>\n",
       "    <tr>\n",
       "      <th>Ghana</th>\n",
       "      <td>58</td>\n",
       "      <td>111</td>\n",
       "      <td>52.25</td>\n",
       "      <td>1.11</td>\n",
       "      <td>57</td>\n",
       "    </tr>\n",
       "    <tr>\n",
       "      <th>Spain</th>\n",
       "      <td>56</td>\n",
       "      <td>113</td>\n",
       "      <td>49.56</td>\n",
       "      <td>1.13</td>\n",
       "      <td>56</td>\n",
       "    </tr>\n",
       "    <tr>\n",
       "      <th>Cameroon</th>\n",
       "      <td>49</td>\n",
       "      <td>118</td>\n",
       "      <td>41.53</td>\n",
       "      <td>1.18</td>\n",
       "      <td>49</td>\n",
       "    </tr>\n",
       "    <tr>\n",
       "      <th>Ivory Coast</th>\n",
       "      <td>45</td>\n",
       "      <td>106</td>\n",
       "      <td>42.45</td>\n",
       "      <td>1.06</td>\n",
       "      <td>44</td>\n",
       "    </tr>\n",
       "    <tr>\n",
       "      <th>South Korea</th>\n",
       "      <td>44</td>\n",
       "      <td>111</td>\n",
       "      <td>39.64</td>\n",
       "      <td>1.11</td>\n",
       "      <td>44</td>\n",
       "    </tr>\n",
       "  </tbody>\n",
       "</table>\n",
       "</div>"
      ],
      "text/plain": [
       "               wins  games_played  win_percentage  weight  best\n",
       "Brazil          207           340           60.88    3.40   206\n",
       "Argentina       170           286           59.44    2.86   169\n",
       "Uruguay         139           267           52.06    2.67   139\n",
       "Mexico          102           210           48.57    2.10   101\n",
       "Germany         101           171           59.06    1.71   100\n",
       "United States    81           149           54.36    1.49    80\n",
       "Chile            78           223           34.98    2.23    78\n",
       "Paraguay         70           201           34.83    2.01    70\n",
       "Italy            64           129           49.61    1.29    63\n",
       "Costa Rica       62           135           45.93    1.35    62\n",
       "France           63           115           54.78    1.15    62\n",
       "Peru             61           176           34.66    1.76    61\n",
       "Colombia         61           159           38.36    1.59    60\n",
       "Nigeria          59           120           49.17    1.20    59\n",
       "Egypt            58           113           51.33    1.13    58\n",
       "Ghana            58           111           52.25    1.11    57\n",
       "Spain            56           113           49.56    1.13    56\n",
       "Cameroon         49           118           41.53    1.18    49\n",
       "Ivory Coast      45           106           42.45    1.06    44\n",
       "South Korea      44           111           39.64    1.11    44"
      ]
     },
     "execution_count": 143,
     "metadata": {},
     "output_type": "execute_result"
    }
   ],
   "source": [
    "countries.loc[:,['wins','games_played','win_percentage','weight','best']].sort_values('best',ascending=False).head(20)"
   ]
  },
  {
   "cell_type": "code",
   "execution_count": null,
   "metadata": {},
   "outputs": [],
   "source": []
  },
  {
   "cell_type": "code",
   "execution_count": null,
   "metadata": {},
   "outputs": [],
   "source": []
  },
  {
   "cell_type": "code",
   "execution_count": null,
   "metadata": {},
   "outputs": [],
   "source": []
  },
  {
   "cell_type": "code",
   "execution_count": null,
   "metadata": {},
   "outputs": [],
   "source": []
  }
 ],
 "metadata": {
  "kernelspec": {
   "display_name": "Python 3",
   "language": "python",
   "name": "python3"
  },
  "language_info": {
   "codemirror_mode": {
    "name": "ipython",
    "version": 3
   },
   "file_extension": ".py",
   "mimetype": "text/x-python",
   "name": "python",
   "nbconvert_exporter": "python",
   "pygments_lexer": "ipython3",
   "version": "3.7.3"
  }
 },
 "nbformat": 4,
 "nbformat_minor": 2
}
